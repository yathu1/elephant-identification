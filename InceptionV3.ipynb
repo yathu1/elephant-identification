{
  "cells": [
    {
      "cell_type": "markdown",
      "metadata": {
        "id": "nO-5u_G9eVNF"
      },
      "source": [
        "## InceptionV3 Model Training Porocess"
      ]
    },
    {
      "cell_type": "markdown",
      "metadata": {
        "id": "OjcpyoRjbMds"
      },
      "source": [
        "### Import libraries"
      ]
    },
    {
      "cell_type": "code",
      "execution_count": 1,
      "metadata": {
        "id": "q80TAieG7f3e"
      },
      "outputs": [],
      "source": [
        "import numpy as np\n",
        "import keras\n",
        "import tensorflow as tf\n",
        "from matplotlib import pyplot as plt\n",
        "from time import time\n",
        "import warnings\n",
        "from sklearn.metrics import classification_report, confusion_matrix\n",
        "import itertools\n",
        "import os\n",
        "import seaborn as sns\n",
        "import matplotlib.pyplot as plt\n",
        "warnings.filterwarnings(\"ignore\")\n",
        "%matplotlib inline"
      ]
    },
    {
      "cell_type": "markdown",
      "metadata": {
        "id": "9UUSCwUWbPgt"
      },
      "source": [
        "### Dataset paths"
      ]
    },
    {
      "cell_type": "code",
      "execution_count": 2,
      "metadata": {
        "id": "TQQIwBKx7yK3"
      },
      "outputs": [],
      "source": [
        "train_path = 'new_augmentation/train'\n",
        "valid_path = 'new_augmentation/val'\n",
        "test_path = 'new_augmentation/test'"
      ]
    },
    {
      "cell_type": "markdown",
      "metadata": {
        "id": "Jn2EgL7QbTg-"
      },
      "source": [
        "### Training classes"
      ]
    },
    {
      "cell_type": "code",
      "execution_count": 3,
      "metadata": {
        "id": "GuNizLaoaiLp"
      },
      "outputs": [
        {
          "data": {
            "text/plain": [
              "['Duryodhan',\n",
              " 'Ganga',\n",
              " 'Lali',\n",
              " 'Parashuram',\n",
              " 'Raju',\n",
              " 'Sivilbahadur',\n",
              " 'Sonu',\n",
              " 'Tirathram',\n",
              " 'Yoglaxmi']"
            ]
          },
          "execution_count": 3,
          "metadata": {},
          "output_type": "execute_result"
        }
      ],
      "source": [
        "train_classes = os.listdir(train_path)\n",
        "train_classes"
      ]
    },
    {
      "cell_type": "markdown",
      "metadata": {
        "id": "-0puXx1EbW-L"
      },
      "source": [
        "### Training batch sizes"
      ]
    },
    {
      "cell_type": "code",
      "execution_count": 4,
      "metadata": {
        "id": "mUN-3ndJaiLq"
      },
      "outputs": [],
      "source": [
        "train_batch_size = 16\n",
        "test_batch_size = 16\n",
        "valid_batch_size = 16"
      ]
    },
    {
      "cell_type": "markdown",
      "metadata": {
        "id": "NxBhuX7obZMb"
      },
      "source": [
        "### Training samples"
      ]
    },
    {
      "cell_type": "code",
      "execution_count": 5,
      "metadata": {},
      "outputs": [
        {
          "name": "stdout",
          "output_type": "stream",
          "text": [
            "Training samples: 1212\n",
            "Test samples: 458\n",
            "Validation samples: 457\n"
          ]
        }
      ],
      "source": [
        "# Count the number of samples in each directory\n",
        "train_n = sum([len(files) for r, d, files in os.walk(train_path)])\n",
        "test_n = sum([len(files) for r, d, files in os.walk(test_path)])\n",
        "valid_n = sum([len(files) for r, d, files in os.walk(valid_path)])\n",
        "\n",
        "print(f'Training samples: {train_n}')\n",
        "print(f'Test samples: {test_n}')\n",
        "print(f'Validation samples: {valid_n}')"
      ]
    },
    {
      "cell_type": "code",
      "execution_count": 6,
      "metadata": {
        "id": "xNatr3_TaiLq"
      },
      "outputs": [],
      "source": [
        "train_n = 1212\n",
        "test_n = 458\n",
        "valid_n = 457"
      ]
    },
    {
      "cell_type": "markdown",
      "metadata": {
        "id": "7ZrycWZtcXFR"
      },
      "source": [
        "### Training steps (per epoch)"
      ]
    },
    {
      "cell_type": "code",
      "execution_count": 7,
      "metadata": {
        "id": "cyuud8qxaiLq"
      },
      "outputs": [],
      "source": [
        "train_steps = train_n//train_batch_size\n",
        "valid_steps = valid_n//valid_batch_size\n",
        "test_steps = test_n//test_batch_size"
      ]
    },
    {
      "cell_type": "markdown",
      "metadata": {
        "id": "gmm0ZQQFcaRR"
      },
      "source": [
        "### Epochs"
      ]
    },
    {
      "cell_type": "code",
      "execution_count": 8,
      "metadata": {
        "id": "bGwB0vq_aiLr"
      },
      "outputs": [],
      "source": [
        "epochs = 1000"
      ]
    },
    {
      "cell_type": "markdown",
      "metadata": {
        "id": "4b3I5kiUceiH"
      },
      "source": [
        "### Generate batches"
      ]
    },
    {
      "cell_type": "code",
      "execution_count": 9,
      "metadata": {
        "id": "TcxoJHZ7y8_e"
      },
      "outputs": [
        {
          "name": "stdout",
          "output_type": "stream",
          "text": [
            "Found 1212 images belonging to 9 classes.\n",
            "Found 457 images belonging to 9 classes.\n",
            "Found 458 images belonging to 9 classes.\n"
          ]
        }
      ],
      "source": [
        "train_batches = tf.keras.preprocessing.image.ImageDataGenerator().flow_from_directory(train_path, target_size=(128,128), classes=train_classes, batch_size=train_batch_size)\n",
        "valid_batches = tf.keras.preprocessing.image.ImageDataGenerator().flow_from_directory(valid_path, target_size=(128,128), classes=train_classes, batch_size=valid_batch_size)\n",
        "test_batches = tf.keras.preprocessing.image.ImageDataGenerator().flow_from_directory(test_path, target_size=(128,128), classes=train_classes, batch_size=test_batch_size)"
      ]
    },
    {
      "cell_type": "markdown",
      "metadata": {
        "id": "h5rufm0icjNA"
      },
      "source": [
        "### Base model (InceptionV3)"
      ]
    },
    {
      "cell_type": "markdown",
      "metadata": {
        "id": "bohTRaH9crSj"
      },
      "source": [
        "#### Training from scratch"
      ]
    },
    {
      "cell_type": "code",
      "execution_count": 10,
      "metadata": {
        "id": "xrh6AuZb-6XR"
      },
      "outputs": [],
      "source": [
        "base_model = tf.keras.applications.InceptionV3(include_top=False,\n",
        "    weights=None,\n",
        "    pooling='avg')"
      ]
    },
    {
      "cell_type": "code",
      "execution_count": 11,
      "metadata": {
        "id": "OG6YUnntaiLu"
      },
      "outputs": [],
      "source": [
        "for layer in base_model.layers:\n",
        "    layer.trainable = False"
      ]
    },
    {
      "cell_type": "code",
      "execution_count": 12,
      "metadata": {
        "id": "4n5SXVWRaiLu"
      },
      "outputs": [],
      "source": [
        "output =  tf.keras.layers.Dense(len(train_classes), activation='softmax')(base_model.output)\n",
        "new_model = tf.keras.Model(base_model.input, output)"
      ]
    },
    {
      "cell_type": "markdown",
      "metadata": {
        "id": "LkV6Oy1bcwW0"
      },
      "source": [
        "### Set early stopping\n",
        "Avoids model overfitting"
      ]
    },
    {
      "cell_type": "code",
      "execution_count": 13,
      "metadata": {
        "id": "_0UVP757aiLu"
      },
      "outputs": [],
      "source": [
        "es_callback = tf.keras.callbacks.EarlyStopping(\n",
        "    monitor='val_accuracy',\n",
        "    verbose=1,\n",
        "    patience=5,\n",
        "    mode='max',\n",
        "    restore_best_weights=True\n",
        ")"
      ]
    },
    {
      "cell_type": "markdown",
      "metadata": {
        "id": "eJnwba-sc88U"
      },
      "source": [
        "### Generate new model"
      ]
    },
    {
      "cell_type": "code",
      "execution_count": 14,
      "metadata": {
        "id": "Uye3-lUhaiLv"
      },
      "outputs": [],
      "source": [
        "new_model.compile(optimizer=tf.keras.optimizers.Adam(learning_rate=0.001), loss=tf.keras.losses.CategoricalCrossentropy(from_logits=False,\n",
        "    label_smoothing=0,\n",
        "    reduction=\"auto\",\n",
        "    name=\"categorical_crossentropy\"), metrics=['accuracy'])"
      ]
    },
    {
      "cell_type": "markdown",
      "metadata": {
        "id": "H_b5nENsc_JR"
      },
      "source": [
        "### Training"
      ]
    },
    {
      "cell_type": "code",
      "execution_count": 15,
      "metadata": {
        "id": "Qg39SNppcopZ"
      },
      "outputs": [
        {
          "name": "stdout",
          "output_type": "stream",
          "text": [
            "Epoch 1/1000\n",
            "75/75 [==============================] - 51s 580ms/step - loss: 2.1696 - accuracy: 0.1438 - val_loss: 2.3989 - val_accuracy: 0.1116\n",
            "Epoch 2/1000\n",
            "75/75 [==============================] - 42s 565ms/step - loss: 2.1134 - accuracy: 0.1747 - val_loss: 2.5104 - val_accuracy: 0.1205\n",
            "Epoch 3/1000\n",
            "75/75 [==============================] - 41s 550ms/step - loss: 2.0772 - accuracy: 0.2283 - val_loss: 2.2718 - val_accuracy: 0.1585\n",
            "Epoch 4/1000\n",
            "75/75 [==============================] - 41s 545ms/step - loss: 2.0450 - accuracy: 0.2734 - val_loss: 2.3285 - val_accuracy: 0.2344\n",
            "Epoch 5/1000\n",
            "75/75 [==============================] - 43s 577ms/step - loss: 2.0135 - accuracy: 0.2717 - val_loss: 2.3066 - val_accuracy: 0.1875\n",
            "Epoch 6/1000\n",
            "75/75 [==============================] - 37s 487ms/step - loss: 1.9942 - accuracy: 0.2684 - val_loss: 2.3137 - val_accuracy: 0.2321\n",
            "Epoch 7/1000\n",
            "75/75 [==============================] - 33s 448ms/step - loss: 1.9589 - accuracy: 0.2542 - val_loss: 2.3260 - val_accuracy: 0.2478\n",
            "Epoch 8/1000\n",
            "75/75 [==============================] - 35s 470ms/step - loss: 1.9409 - accuracy: 0.3085 - val_loss: 2.1826 - val_accuracy: 0.2946\n",
            "Epoch 9/1000\n",
            "75/75 [==============================] - 36s 484ms/step - loss: 1.9183 - accuracy: 0.2943 - val_loss: 2.3414 - val_accuracy: 0.2165\n",
            "Epoch 10/1000\n",
            "75/75 [==============================] - 49s 653ms/step - loss: 1.8914 - accuracy: 0.3244 - val_loss: 2.2549 - val_accuracy: 0.3259\n",
            "Epoch 11/1000\n",
            "75/75 [==============================] - 56s 747ms/step - loss: 1.8832 - accuracy: 0.3403 - val_loss: 2.2521 - val_accuracy: 0.1496\n",
            "Epoch 12/1000\n",
            "75/75 [==============================] - 57s 748ms/step - loss: 1.8771 - accuracy: 0.3303 - val_loss: 2.2373 - val_accuracy: 0.2679\n",
            "Epoch 13/1000\n",
            "75/75 [==============================] - 55s 726ms/step - loss: 1.8389 - accuracy: 0.3386 - val_loss: 2.2292 - val_accuracy: 0.2634\n",
            "Epoch 14/1000\n",
            "75/75 [==============================] - 59s 791ms/step - loss: 1.8199 - accuracy: 0.3821 - val_loss: 2.2702 - val_accuracy: 0.2812\n",
            "Epoch 15/1000\n",
            "75/75 [==============================] - ETA: 0s - loss: 1.8018 - accuracy: 0.3863Restoring model weights from the end of the best epoch: 10.\n",
            "75/75 [==============================] - 59s 784ms/step - loss: 1.8018 - accuracy: 0.3863 - val_loss: 2.2014 - val_accuracy: 0.2500\n",
            "Epoch 15: early stopping\n"
          ]
        }
      ],
      "source": [
        "history = new_model.fit_generator(train_batches, validation_data=valid_batches, validation_steps=valid_steps, steps_per_epoch=train_steps, epochs=epochs,callbacks=[es_callback])"
      ]
    },
    {
      "cell_type": "markdown",
      "metadata": {
        "id": "M75KUjhMdC4T"
      },
      "source": [
        "### Evaluate training process"
      ]
    },
    {
      "cell_type": "code",
      "execution_count": 16,
      "metadata": {
        "id": "KJbNUdKtaiLw"
      },
      "outputs": [
        {
          "data": {
            "text/plain": [
              "[1.880228877067566, 0.3774999976158142]"
            ]
          },
          "execution_count": 16,
          "metadata": {},
          "output_type": "execute_result"
        }
      ],
      "source": [
        "results = new_model.evaluate_generator(train_batches, train_steps)\n",
        "results"
      ]
    },
    {
      "cell_type": "markdown",
      "metadata": {
        "id": "gPiOmt3BdWJ7"
      },
      "source": [
        "#### Loss function"
      ]
    },
    {
      "cell_type": "code",
      "execution_count": 17,
      "metadata": {
        "id": "iejCCZcNaiLw"
      },
      "outputs": [
        {
          "data": {
            "image/png": "[encoded data removed]",
            "text/plain": [
              "<Figure size 640x480 with 1 Axes>"
            ]
          },
          "metadata": {},
          "output_type": "display_data"
        }
      ],
      "source": [
        "plt.semilogy(history.epoch,  history.history['loss'], label='Train')\n",
        "plt.semilogy(history.epoch,  history.history['val_loss'], label='Validation')\n",
        "plt.xlabel('Epoch')\n",
        "plt.ylabel('Loss')\n",
        "plt.legend()\n",
        "plt.show()"
      ]
    },
    {
      "cell_type": "markdown",
      "metadata": {
        "id": "fvIg0vLtdY_0"
      },
      "source": [
        "#### Accuracy function"
      ]
    },
    {
      "cell_type": "code",
      "execution_count": 18,
      "metadata": {
        "id": "4daZQkmXaiLx"
      },
      "outputs": [
        {
          "data": {
            "image/png": "[encoded data removed]",
            "text/plain": [
              "<Figure size 640x480 with 1 Axes>"
            ]
          },
          "metadata": {},
          "output_type": "display_data"
        }
      ],
      "source": [
        "plt.semilogy(history.epoch,  history.history['accuracy'], label='Train')\n",
        "plt.semilogy(history.epoch,  history.history['val_accuracy'], label='Validation')\n",
        "plt.xlabel('Epoch')\n",
        "plt.ylabel('Accuracy')\n",
        "plt.legend()\n",
        "plt.show()"
      ]
    },
    {
      "cell_type": "code",
      "execution_count": 19,
      "metadata": {
        "id": "6kFJN-rWaiLy"
      },
      "outputs": [],
      "source": [
        "Y_train_pred =new_model.predict_generator(train_batches,train_steps)"
      ]
    },
    {
      "cell_type": "code",
      "execution_count": 20,
      "metadata": {
        "id": "ZMWTh6OpaiLy"
      },
      "outputs": [],
      "source": [
        "y_train_pred = np.argmax(Y_train_pred, axis=1)"
      ]
    },
    {
      "cell_type": "markdown",
      "metadata": {
        "id": "WJBMtXZqdcbY"
      },
      "source": [
        "#### Confusion matrix"
      ]
    },
    {
      "cell_type": "code",
      "execution_count": 21,
      "metadata": {},
      "outputs": [
        {
          "name": "stdout",
          "output_type": "stream",
          "text": [
            "1212\n"
          ]
        }
      ],
      "source": [
        "print(len(train_batches.classes))"
      ]
    },
    {
      "cell_type": "code",
      "execution_count": 22,
      "metadata": {},
      "outputs": [
        {
          "name": "stdout",
          "output_type": "stream",
          "text": [
            "62/75 [=======================>......] - ETA: 5s"
          ]
        },
        {
          "name": "stdout",
          "output_type": "stream",
          "text": [
            "75/75 [==============================] - 31s 413ms/step\n",
            "1200\n"
          ]
        }
      ],
      "source": [
        "y_train_pred = new_model.predict(train_batches, steps=train_steps)\n",
        "y_train_pred_classes = np.argmax(y_train_pred, axis=1)\n",
        "print(len(y_train_pred_classes))"
      ]
    },
    {
      "cell_type": "code",
      "execution_count": 23,
      "metadata": {},
      "outputs": [
        {
          "name": "stdout",
          "output_type": "stream",
          "text": [
            "14/75 [====>.........................] - ETA: 41s"
          ]
        },
        {
          "name": "stdout",
          "output_type": "stream",
          "text": [
            "75/75 [==============================] - 40s 523ms/step\n",
            "1212\n",
            "1200\n"
          ]
        },
        {
          "ename": "ValueError",
          "evalue": "Found input variables with inconsistent numbers of samples: [1212, 1200]",
          "output_type": "error",
          "traceback": [
            "\u001b[1;31m---------------------------------------------------------------------------\u001b[0m",
            "\u001b[1;31mValueError\u001b[0m                                Traceback (most recent call last)",
            "\u001b[1;32m~\\AppData\\Local\\Temp\\ipykernel_7792\\2772764808.py\u001b[0m in \u001b[0;36m<module>\u001b[1;34m\u001b[0m\n\u001b[0;32m      8\u001b[0m \u001b[1;33m\u001b[0m\u001b[0m\n\u001b[0;32m      9\u001b[0m \u001b[1;31m# Compute confusion matrix\u001b[0m\u001b[1;33m\u001b[0m\u001b[1;33m\u001b[0m\u001b[1;33m\u001b[0m\u001b[0m\n\u001b[1;32m---> 10\u001b[1;33m \u001b[0mcm_train\u001b[0m \u001b[1;33m=\u001b[0m \u001b[0mconfusion_matrix\u001b[0m\u001b[1;33m(\u001b[0m\u001b[0mtrain_batches\u001b[0m\u001b[1;33m.\u001b[0m\u001b[0mclasses\u001b[0m\u001b[1;33m,\u001b[0m \u001b[0my_train_pred_classes\u001b[0m\u001b[1;33m)\u001b[0m\u001b[1;33m\u001b[0m\u001b[1;33m\u001b[0m\u001b[0m\n\u001b[0m\u001b[0;32m     11\u001b[0m \u001b[0mcm_train\u001b[0m\u001b[1;33m\u001b[0m\u001b[1;33m\u001b[0m\u001b[0m\n",
            "\u001b[1;32mc:\\Users\\hp\\AppData\\Local\\Programs\\Python\\Python37\\lib\\site-packages\\sklearn\\metrics\\_classification.py\u001b[0m in \u001b[0;36mconfusion_matrix\u001b[1;34m(y_true, y_pred, labels, sample_weight, normalize)\u001b[0m\n\u001b[0;32m    305\u001b[0m     \u001b[1;33m(\u001b[0m\u001b[1;36m0\u001b[0m\u001b[1;33m,\u001b[0m \u001b[1;36m2\u001b[0m\u001b[1;33m,\u001b[0m \u001b[1;36m1\u001b[0m\u001b[1;33m,\u001b[0m \u001b[1;36m1\u001b[0m\u001b[1;33m)\u001b[0m\u001b[1;33m\u001b[0m\u001b[1;33m\u001b[0m\u001b[0m\n\u001b[0;32m    306\u001b[0m     \"\"\"\n\u001b[1;32m--> 307\u001b[1;33m     \u001b[0my_type\u001b[0m\u001b[1;33m,\u001b[0m \u001b[0my_true\u001b[0m\u001b[1;33m,\u001b[0m \u001b[0my_pred\u001b[0m \u001b[1;33m=\u001b[0m \u001b[0m_check_targets\u001b[0m\u001b[1;33m(\u001b[0m\u001b[0my_true\u001b[0m\u001b[1;33m,\u001b[0m \u001b[0my_pred\u001b[0m\u001b[1;33m)\u001b[0m\u001b[1;33m\u001b[0m\u001b[1;33m\u001b[0m\u001b[0m\n\u001b[0m\u001b[0;32m    308\u001b[0m     \u001b[1;32mif\u001b[0m \u001b[0my_type\u001b[0m \u001b[1;32mnot\u001b[0m \u001b[1;32min\u001b[0m \u001b[1;33m(\u001b[0m\u001b[1;34m\"binary\"\u001b[0m\u001b[1;33m,\u001b[0m \u001b[1;34m\"multiclass\"\u001b[0m\u001b[1;33m)\u001b[0m\u001b[1;33m:\u001b[0m\u001b[1;33m\u001b[0m\u001b[1;33m\u001b[0m\u001b[0m\n\u001b[0;32m    309\u001b[0m         \u001b[1;32mraise\u001b[0m \u001b[0mValueError\u001b[0m\u001b[1;33m(\u001b[0m\u001b[1;34m\"%s is not supported\"\u001b[0m \u001b[1;33m%\u001b[0m \u001b[0my_type\u001b[0m\u001b[1;33m)\u001b[0m\u001b[1;33m\u001b[0m\u001b[1;33m\u001b[0m\u001b[0m\n",
            "\u001b[1;32mc:\\Users\\hp\\AppData\\Local\\Programs\\Python\\Python37\\lib\\site-packages\\sklearn\\metrics\\_classification.py\u001b[0m in \u001b[0;36m_check_targets\u001b[1;34m(y_true, y_pred)\u001b[0m\n\u001b[0;32m     82\u001b[0m     \u001b[0my_pred\u001b[0m \u001b[1;33m:\u001b[0m \u001b[0marray\u001b[0m \u001b[1;32mor\u001b[0m \u001b[0mindicator\u001b[0m \u001b[0mmatrix\u001b[0m\u001b[1;33m\u001b[0m\u001b[1;33m\u001b[0m\u001b[0m\n\u001b[0;32m     83\u001b[0m     \"\"\"\n\u001b[1;32m---> 84\u001b[1;33m     \u001b[0mcheck_consistent_length\u001b[0m\u001b[1;33m(\u001b[0m\u001b[0my_true\u001b[0m\u001b[1;33m,\u001b[0m \u001b[0my_pred\u001b[0m\u001b[1;33m)\u001b[0m\u001b[1;33m\u001b[0m\u001b[1;33m\u001b[0m\u001b[0m\n\u001b[0m\u001b[0;32m     85\u001b[0m     \u001b[0mtype_true\u001b[0m \u001b[1;33m=\u001b[0m \u001b[0mtype_of_target\u001b[0m\u001b[1;33m(\u001b[0m\u001b[0my_true\u001b[0m\u001b[1;33m)\u001b[0m\u001b[1;33m\u001b[0m\u001b[1;33m\u001b[0m\u001b[0m\n\u001b[0;32m     86\u001b[0m     \u001b[0mtype_pred\u001b[0m \u001b[1;33m=\u001b[0m \u001b[0mtype_of_target\u001b[0m\u001b[1;33m(\u001b[0m\u001b[0my_pred\u001b[0m\u001b[1;33m)\u001b[0m\u001b[1;33m\u001b[0m\u001b[1;33m\u001b[0m\u001b[0m\n",
            "\u001b[1;32mc:\\Users\\hp\\AppData\\Local\\Programs\\Python\\Python37\\lib\\site-packages\\sklearn\\utils\\validation.py\u001b[0m in \u001b[0;36mcheck_consistent_length\u001b[1;34m(*arrays)\u001b[0m\n\u001b[0;32m    332\u001b[0m         raise ValueError(\n\u001b[0;32m    333\u001b[0m             \u001b[1;34m\"Found input variables with inconsistent numbers of samples: %r\"\u001b[0m\u001b[1;33m\u001b[0m\u001b[1;33m\u001b[0m\u001b[0m\n\u001b[1;32m--> 334\u001b[1;33m             \u001b[1;33m%\u001b[0m \u001b[1;33m[\u001b[0m\u001b[0mint\u001b[0m\u001b[1;33m(\u001b[0m\u001b[0ml\u001b[0m\u001b[1;33m)\u001b[0m \u001b[1;32mfor\u001b[0m \u001b[0ml\u001b[0m \u001b[1;32min\u001b[0m \u001b[0mlengths\u001b[0m\u001b[1;33m]\u001b[0m\u001b[1;33m\u001b[0m\u001b[1;33m\u001b[0m\u001b[0m\n\u001b[0m\u001b[0;32m    335\u001b[0m         )\n\u001b[0;32m    336\u001b[0m \u001b[1;33m\u001b[0m\u001b[0m\n",
            "\u001b[1;31mValueError\u001b[0m: Found input variables with inconsistent numbers of samples: [1212, 1200]"
          ]
        }
      ],
      "source": [
        "# Ensure predictions cover all samples\n",
        "y_train_pred = new_model.predict(train_batches, steps=train_steps)\n",
        "y_train_pred_classes = np.argmax(y_train_pred, axis=1)\n",
        "\n",
        "# Check lengths\n",
        "print(len(train_batches.classes))  # Should print 1870\n",
        "print(len(y_train_pred_classes))   # Should print 1870\n",
        "\n",
        "# Compute confusion matrix\n",
        "cm_train = confusion_matrix(train_batches.classes, y_train_pred_classes)\n",
        "cm_train"
      ]
    },
    {
      "cell_type": "code",
      "execution_count": 68,
      "metadata": {
        "id": "bfzGQv-LaiLy"
      },
      "outputs": [
        {
          "ename": "ValueError",
          "evalue": "Found input variables with inconsistent numbers of samples: [1870, 1856]",
          "output_type": "error",
          "traceback": [
            "\u001b[1;31m---------------------------------------------------------------------------\u001b[0m",
            "\u001b[1;31mValueError\u001b[0m                                Traceback (most recent call last)",
            "\u001b[1;32m~\\AppData\\Local\\Temp\\ipykernel_11212\\977335696.py\u001b[0m in \u001b[0;36m<module>\u001b[1;34m\u001b[0m\n\u001b[1;32m----> 1\u001b[1;33m \u001b[0mcm_train\u001b[0m \u001b[1;33m=\u001b[0m \u001b[0mconfusion_matrix\u001b[0m\u001b[1;33m(\u001b[0m\u001b[0mtrain_batches\u001b[0m\u001b[1;33m.\u001b[0m\u001b[0mclasses\u001b[0m\u001b[1;33m,\u001b[0m \u001b[0my_train_pred\u001b[0m\u001b[1;33m)\u001b[0m\u001b[1;33m\u001b[0m\u001b[1;33m\u001b[0m\u001b[0m\n\u001b[0m",
            "\u001b[1;32mc:\\Users\\hp\\AppData\\Local\\Programs\\Python\\Python37\\lib\\site-packages\\sklearn\\metrics\\_classification.py\u001b[0m in \u001b[0;36mconfusion_matrix\u001b[1;34m(y_true, y_pred, labels, sample_weight, normalize)\u001b[0m\n\u001b[0;32m    305\u001b[0m     \u001b[1;33m(\u001b[0m\u001b[1;36m0\u001b[0m\u001b[1;33m,\u001b[0m \u001b[1;36m2\u001b[0m\u001b[1;33m,\u001b[0m \u001b[1;36m1\u001b[0m\u001b[1;33m,\u001b[0m \u001b[1;36m1\u001b[0m\u001b[1;33m)\u001b[0m\u001b[1;33m\u001b[0m\u001b[1;33m\u001b[0m\u001b[0m\n\u001b[0;32m    306\u001b[0m     \"\"\"\n\u001b[1;32m--> 307\u001b[1;33m     \u001b[0my_type\u001b[0m\u001b[1;33m,\u001b[0m \u001b[0my_true\u001b[0m\u001b[1;33m,\u001b[0m \u001b[0my_pred\u001b[0m \u001b[1;33m=\u001b[0m \u001b[0m_check_targets\u001b[0m\u001b[1;33m(\u001b[0m\u001b[0my_true\u001b[0m\u001b[1;33m,\u001b[0m \u001b[0my_pred\u001b[0m\u001b[1;33m)\u001b[0m\u001b[1;33m\u001b[0m\u001b[1;33m\u001b[0m\u001b[0m\n\u001b[0m\u001b[0;32m    308\u001b[0m     \u001b[1;32mif\u001b[0m \u001b[0my_type\u001b[0m \u001b[1;32mnot\u001b[0m \u001b[1;32min\u001b[0m \u001b[1;33m(\u001b[0m\u001b[1;34m\"binary\"\u001b[0m\u001b[1;33m,\u001b[0m \u001b[1;34m\"multiclass\"\u001b[0m\u001b[1;33m)\u001b[0m\u001b[1;33m:\u001b[0m\u001b[1;33m\u001b[0m\u001b[1;33m\u001b[0m\u001b[0m\n\u001b[0;32m    309\u001b[0m         \u001b[1;32mraise\u001b[0m \u001b[0mValueError\u001b[0m\u001b[1;33m(\u001b[0m\u001b[1;34m\"%s is not supported\"\u001b[0m \u001b[1;33m%\u001b[0m \u001b[0my_type\u001b[0m\u001b[1;33m)\u001b[0m\u001b[1;33m\u001b[0m\u001b[1;33m\u001b[0m\u001b[0m\n",
            "\u001b[1;32mc:\\Users\\hp\\AppData\\Local\\Programs\\Python\\Python37\\lib\\site-packages\\sklearn\\metrics\\_classification.py\u001b[0m in \u001b[0;36m_check_targets\u001b[1;34m(y_true, y_pred)\u001b[0m\n\u001b[0;32m     82\u001b[0m     \u001b[0my_pred\u001b[0m \u001b[1;33m:\u001b[0m \u001b[0marray\u001b[0m \u001b[1;32mor\u001b[0m \u001b[0mindicator\u001b[0m \u001b[0mmatrix\u001b[0m\u001b[1;33m\u001b[0m\u001b[1;33m\u001b[0m\u001b[0m\n\u001b[0;32m     83\u001b[0m     \"\"\"\n\u001b[1;32m---> 84\u001b[1;33m     \u001b[0mcheck_consistent_length\u001b[0m\u001b[1;33m(\u001b[0m\u001b[0my_true\u001b[0m\u001b[1;33m,\u001b[0m \u001b[0my_pred\u001b[0m\u001b[1;33m)\u001b[0m\u001b[1;33m\u001b[0m\u001b[1;33m\u001b[0m\u001b[0m\n\u001b[0m\u001b[0;32m     85\u001b[0m     \u001b[0mtype_true\u001b[0m \u001b[1;33m=\u001b[0m \u001b[0mtype_of_target\u001b[0m\u001b[1;33m(\u001b[0m\u001b[0my_true\u001b[0m\u001b[1;33m)\u001b[0m\u001b[1;33m\u001b[0m\u001b[1;33m\u001b[0m\u001b[0m\n\u001b[0;32m     86\u001b[0m     \u001b[0mtype_pred\u001b[0m \u001b[1;33m=\u001b[0m \u001b[0mtype_of_target\u001b[0m\u001b[1;33m(\u001b[0m\u001b[0my_pred\u001b[0m\u001b[1;33m)\u001b[0m\u001b[1;33m\u001b[0m\u001b[1;33m\u001b[0m\u001b[0m\n",
            "\u001b[1;32mc:\\Users\\hp\\AppData\\Local\\Programs\\Python\\Python37\\lib\\site-packages\\sklearn\\utils\\validation.py\u001b[0m in \u001b[0;36mcheck_consistent_length\u001b[1;34m(*arrays)\u001b[0m\n\u001b[0;32m    332\u001b[0m         raise ValueError(\n\u001b[0;32m    333\u001b[0m             \u001b[1;34m\"Found input variables with inconsistent numbers of samples: %r\"\u001b[0m\u001b[1;33m\u001b[0m\u001b[1;33m\u001b[0m\u001b[0m\n\u001b[1;32m--> 334\u001b[1;33m             \u001b[1;33m%\u001b[0m \u001b[1;33m[\u001b[0m\u001b[0mint\u001b[0m\u001b[1;33m(\u001b[0m\u001b[0ml\u001b[0m\u001b[1;33m)\u001b[0m \u001b[1;32mfor\u001b[0m \u001b[0ml\u001b[0m \u001b[1;32min\u001b[0m \u001b[0mlengths\u001b[0m\u001b[1;33m]\u001b[0m\u001b[1;33m\u001b[0m\u001b[1;33m\u001b[0m\u001b[0m\n\u001b[0m\u001b[0;32m    335\u001b[0m         )\n\u001b[0;32m    336\u001b[0m \u001b[1;33m\u001b[0m\u001b[0m\n",
            "\u001b[1;31mValueError\u001b[0m: Found input variables with inconsistent numbers of samples: [1870, 1856]"
          ]
        }
      ],
      "source": [
        "cm_train = confusion_matrix(train_batches.classes, y_train_pred)"
      ]
    },
    {
      "cell_type": "code",
      "execution_count": null,
      "metadata": {
        "id": "IwH5VuYMaiLz"
      },
      "outputs": [],
      "source": [
        "plt.figure(figsize=(15,15))\n",
        "sns.heatmap(cm_train, annot=True, fmt=\"d\")\n",
        "plt.title('Confusion matrix (Train)')\n",
        "plt.ylabel('Actual label')\n",
        "plt.xlabel('Predicted label')"
      ]
    },
    {
      "cell_type": "markdown",
      "metadata": {
        "id": "1DA4hsw5dg5j"
      },
      "source": [
        "### Model testing"
      ]
    },
    {
      "cell_type": "code",
      "execution_count": null,
      "metadata": {
        "id": "9l0uYBMrBYEX"
      },
      "outputs": [],
      "source": [
        "Y_pred =new_model.predict_generator(test_batches,test_steps)"
      ]
    },
    {
      "cell_type": "code",
      "execution_count": null,
      "metadata": {
        "id": "NA-nFUxiaiLx"
      },
      "outputs": [],
      "source": [
        "y_pred = np.argmax(Y_pred, axis=1)"
      ]
    },
    {
      "cell_type": "code",
      "execution_count": null,
      "metadata": {
        "id": "kZxYPbqdBvvm"
      },
      "outputs": [],
      "source": [
        "cm = confusion_matrix(test_batches.classes, y_pred)"
      ]
    },
    {
      "cell_type": "code",
      "execution_count": null,
      "metadata": {
        "id": "wQjFACoBB2t5"
      },
      "outputs": [],
      "source": [
        "plt.figure(figsize=(15,15))\n",
        "sns.heatmap(cm, annot=True, fmt=\"d\")\n",
        "plt.title('Confusion matrix')\n",
        "plt.ylabel('Actual label')\n",
        "plt.xlabel('Predicted label')"
      ]
    },
    {
      "cell_type": "markdown",
      "metadata": {
        "id": "AY1sgUoIdoHm"
      },
      "source": [
        "### Save model"
      ]
    },
    {
      "cell_type": "code",
      "execution_count": null,
      "metadata": {
        "id": "FUwqwmJxaiL0"
      },
      "outputs": [],
      "source": [
        "new_model.save('InceptionV3_New.h5')"
      ]
    }
  ],
  "metadata": {
    "accelerator": "GPU",
    "colab": {
      "collapsed_sections": [],
      "name": "vgg16",
      "provenance": [],
      "toc_visible": true
    },
    "kernelspec": {
      "display_name": "Python 3",
      "language": "python",
      "name": "python3"
    },
    "language_info": {
      "codemirror_mode": {
        "name": "ipython",
        "version": 3
      },
      "file_extension": ".py",
      "mimetype": "text/x-python",
      "name": "python",
      "nbconvert_exporter": "python",
      "pygments_lexer": "ipython3",
      "version": "3.7.8"
    }
  },
  "nbformat": 4,
  "nbformat_minor": 0
}
