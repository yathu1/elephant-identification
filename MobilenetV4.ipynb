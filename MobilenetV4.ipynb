{
 "cells": [
  {
   "cell_type": "markdown",
   "metadata": {
    "id": "nO-5u_G9eVNF"
   },
   "source": [
    "## AlexNet Model Training Porocess"
   ]
  },
  {
   "cell_type": "markdown",
   "metadata": {
    "id": "OjcpyoRjbMds"
   },
   "source": [
    "### Import libraries"
   ]
  },
  {
   "cell_type": "code",
   "execution_count": 75,
   "metadata": {
    "executionInfo": {
     "elapsed": 3359,
     "status": "ok",
     "timestamp": 1735106416084,
     "user": {
      "displayName": "K YATHURAJ",
      "userId": "06817869074894730479"
     },
     "user_tz": -330
    },
    "id": "q80TAieG7f3e"
   },
   "outputs": [],
   "source": [
    "import numpy as np\n",
    "import keras\n",
    "import tensorflow as tf\n",
    "from matplotlib import pyplot as plt\n",
    "from time import time\n",
    "import warnings\n",
    "from sklearn.metrics import classification_report, confusion_matrix\n",
    "import itertools\n",
    "import os\n",
    "import seaborn as sns\n",
    "import matplotlib.pyplot as plt\n",
    "warnings.filterwarnings(\"ignore\")\n",
    "%matplotlib inline"
   ]
  },
  {
   "cell_type": "markdown",
   "metadata": {
    "id": "9UUSCwUWbPgt"
   },
   "source": [
    "### Dataset paths"
   ]
  },
  {
   "cell_type": "code",
   "execution_count": 76,
   "metadata": {
    "executionInfo": {
     "elapsed": 44,
     "status": "ok",
     "timestamp": 1735106424117,
     "user": {
      "displayName": "K YATHURAJ",
      "userId": "06817869074894730479"
     },
     "user_tz": -330
    },
    "id": "TQQIwBKx7yK3"
   },
   "outputs": [],
   "source": [
    "train_path = 'new_augmentation/train'\n",
    "valid_path = 'new_augmentation/val'\n",
    "test_path = 'new_augmentation/test'"
   ]
  },
  {
   "cell_type": "markdown",
   "metadata": {
    "id": "Jn2EgL7QbTg-"
   },
   "source": [
    "### Training classes"
   ]
  },
  {
   "cell_type": "code",
   "execution_count": 77,
   "metadata": {
    "executionInfo": {
     "elapsed": 43,
     "status": "ok",
     "timestamp": 1735106424118,
     "user": {
      "displayName": "K YATHURAJ",
      "userId": "06817869074894730479"
     },
     "user_tz": -330
    },
    "id": "GuNizLaoaiLp"
   },
   "outputs": [],
   "source": [
    "train_classes = os.listdir(train_path)"
   ]
  },
  {
   "cell_type": "markdown",
   "metadata": {
    "id": "-0puXx1EbW-L"
   },
   "source": [
    "### Training batch sizes"
   ]
  },
  {
   "cell_type": "code",
   "execution_count": 78,
   "metadata": {
    "executionInfo": {
     "elapsed": 41,
     "status": "ok",
     "timestamp": 1735106424118,
     "user": {
      "displayName": "K YATHURAJ",
      "userId": "06817869074894730479"
     },
     "user_tz": -330
    },
    "id": "mUN-3ndJaiLq"
   },
   "outputs": [],
   "source": [
    "train_batch_size = 16\n",
    "test_batch_size = 16\n",
    "valid_batch_size = 16"
   ]
  },
  {
   "cell_type": "markdown",
   "metadata": {
    "id": "NxBhuX7obZMb"
   },
   "source": [
    "### Training samples"
   ]
  },
  {
   "cell_type": "code",
   "execution_count": 79,
   "metadata": {
    "colab": {
     "base_uri": "https://localhost:8080/"
    },
    "executionInfo": {
     "elapsed": 41,
     "status": "ok",
     "timestamp": 1735106424119,
     "user": {
      "displayName": "K YATHURAJ",
      "userId": "06817869074894730479"
     },
     "user_tz": -330
    },
    "id": "EU6stHiMfyuq",
    "outputId": "b46f8e23-3d92-4f16-e079-cd91b0c7946d"
   },
   "outputs": [
    {
     "name": "stdout",
     "output_type": "stream",
     "text": [
      "Training samples: 1212\n",
      "Test samples: 458\n",
      "Validation samples: 457\n"
     ]
    }
   ],
   "source": [
    "\n",
    "# Count the number of samples in each directory\n",
    "train_n = sum([len(files) for r, d, files in os.walk(train_path)])\n",
    "test_n = sum([len(files) for r, d, files in os.walk(test_path)])\n",
    "valid_n = sum([len(files) for r, d, files in os.walk(valid_path)])\n",
    "\n",
    "print(f'Training samples: {train_n}')\n",
    "print(f'Test samples: {test_n}')\n",
    "print(f'Validation samples: {valid_n}')"
   ]
  },
  {
   "cell_type": "code",
   "execution_count": 80,
   "metadata": {
    "executionInfo": {
     "elapsed": 28,
     "status": "ok",
     "timestamp": 1735106424119,
     "user": {
      "displayName": "K YATHURAJ",
      "userId": "06817869074894730479"
     },
     "user_tz": -330
    },
    "id": "xNatr3_TaiLq"
   },
   "outputs": [],
   "source": [
    "train_n = 1212\n",
    "test_n = 458\n",
    "valid_n = 457"
   ]
  },
  {
   "cell_type": "markdown",
   "metadata": {
    "id": "7ZrycWZtcXFR"
   },
   "source": [
    "### Training steps (per epoch)"
   ]
  },
  {
   "cell_type": "code",
   "execution_count": 81,
   "metadata": {
    "executionInfo": {
     "elapsed": 27,
     "status": "ok",
     "timestamp": 1735106424119,
     "user": {
      "displayName": "K YATHURAJ",
      "userId": "06817869074894730479"
     },
     "user_tz": -330
    },
    "id": "cyuud8qxaiLq"
   },
   "outputs": [],
   "source": [
    "train_steps = train_n//train_batch_size\n",
    "valid_steps = valid_n//valid_batch_size\n",
    "test_steps = test_n//test_batch_size"
   ]
  },
  {
   "cell_type": "markdown",
   "metadata": {
    "id": "gmm0ZQQFcaRR"
   },
   "source": [
    "### Epochs"
   ]
  },
  {
   "cell_type": "code",
   "execution_count": 82,
   "metadata": {
    "executionInfo": {
     "elapsed": 28,
     "status": "ok",
     "timestamp": 1735106424120,
     "user": {
      "displayName": "K YATHURAJ",
      "userId": "06817869074894730479"
     },
     "user_tz": -330
    },
    "id": "bGwB0vq_aiLr"
   },
   "outputs": [],
   "source": [
    "epochs = 20"
   ]
  },
  {
   "cell_type": "markdown",
   "metadata": {
    "id": "4b3I5kiUceiH"
   },
   "source": [
    "### Generate batches"
   ]
  },
  {
   "cell_type": "code",
   "execution_count": 83,
   "metadata": {
    "colab": {
     "base_uri": "https://localhost:8080/"
    },
    "executionInfo": {
     "elapsed": 27,
     "status": "ok",
     "timestamp": 1735106424120,
     "user": {
      "displayName": "K YATHURAJ",
      "userId": "06817869074894730479"
     },
     "user_tz": -330
    },
    "id": "TcxoJHZ7y8_e",
    "outputId": "202a2bd7-babb-4ba5-d9b9-7cf0e0008648"
   },
   "outputs": [
    {
     "name": "stdout",
     "output_type": "stream",
     "text": [
      "Found 1212 images belonging to 9 classes.\n",
      "Found 457 images belonging to 9 classes.\n",
      "Found 458 images belonging to 9 classes.\n"
     ]
    }
   ],
   "source": [
    "train_batches = tf.keras.preprocessing.image.ImageDataGenerator().flow_from_directory(train_path, target_size=(128,128), classes=train_classes, batch_size=train_batch_size)\n",
    "valid_batches = tf.keras.preprocessing.image.ImageDataGenerator().flow_from_directory(valid_path, target_size=(128,128), classes=train_classes, batch_size=valid_batch_size)\n",
    "test_batches = tf.keras.preprocessing.image.ImageDataGenerator().flow_from_directory(test_path, target_size=(128,128), classes=train_classes, batch_size=test_batch_size)"
   ]
  },
  {
   "cell_type": "markdown",
   "metadata": {
    "id": "h5rufm0icjNA"
   },
   "source": [
    "### Base model (Efficientnet)"
   ]
  },
  {
   "cell_type": "markdown",
   "metadata": {
    "id": "bohTRaH9crSj"
   },
   "source": [
    "#### Transfer Learning"
   ]
  },
  {
   "cell_type": "code",
   "execution_count": 84,
   "metadata": {
    "executionInfo": {
     "elapsed": 1736,
     "status": "ok",
     "timestamp": 1735106425842,
     "user": {
      "displayName": "K YATHURAJ",
      "userId": "06817869074894730479"
     },
     "user_tz": -330
    },
    "id": "4n5SXVWRaiLu"
   },
   "outputs": [
    {
     "name": "stdout",
     "output_type": "stream",
     "text": [
      "WARNING:tensorflow:`input_shape` is undefined or non-square, or `rows` is not in [128, 160, 192, 224]. Weights for input shape (224, 224) will be loaded as the default.\n"
     ]
    },
    {
     "name": "stderr",
     "output_type": "stream",
     "text": [
      "WARNING:tensorflow:`input_shape` is undefined or non-square, or `rows` is not in [128, 160, 192, 224]. Weights for input shape (224, 224) will be loaded as the default.\n"
     ]
    }
   ],
   "source": [
    "base_model = tf.keras.applications.MobileNet(include_top=False,\n",
    "    weights='imagenet',\n",
    "    pooling='avg')"
   ]
  },
  {
   "cell_type": "code",
   "execution_count": 85,
   "metadata": {
    "executionInfo": {
     "elapsed": 20,
     "status": "ok",
     "timestamp": 1735106425842,
     "user": {
      "displayName": "K YATHURAJ",
      "userId": "06817869074894730479"
     },
     "user_tz": -330
    },
    "id": "D8TQH8Y_TES6"
   },
   "outputs": [],
   "source": [
    "x = base_model.output\n",
    "x = tf.keras.layers.Dense(512, activation='relu')(x)  # Add a dense layer with 512 units\n",
    "x = tf.keras.layers.Dropout(0.5)(x)  # Add dropout for regularization\n",
    "x = tf.keras.layers.Dense(256, activation='relu')(x)  # Add another dense layer with 256 units\n",
    "x = tf.keras.layers.Dropout(0.5)(x)  # Add another dropout layer\n",
    "output = tf.keras.layers.Dense(len(train_classes), activation='softmax')(x)  # Final output layer\n",
    "new_model = tf.keras.Model(base_model.input, output)"
   ]
  },
  {
   "cell_type": "markdown",
   "metadata": {
    "id": "LkV6Oy1bcwW0"
   },
   "source": [
    "### Set early stopping\n",
    "Avoids model overfitting"
   ]
  },
  {
   "cell_type": "code",
   "execution_count": 86,
   "metadata": {
    "executionInfo": {
     "elapsed": 19,
     "status": "ok",
     "timestamp": 1735106425842,
     "user": {
      "displayName": "K YATHURAJ",
      "userId": "06817869074894730479"
     },
     "user_tz": -330
    },
    "id": "_0UVP757aiLu"
   },
   "outputs": [],
   "source": [
    "es_callback = tf.keras.callbacks.EarlyStopping(\n",
    "    monitor='val_loss',\n",
    "    verbose=1,\n",
    "    patience=2,\n",
    "    mode='max',\n",
    "    restore_best_weights=True\n",
    ")"
   ]
  },
  {
   "cell_type": "code",
   "execution_count": 87,
   "metadata": {
    "executionInfo": {
     "elapsed": 18,
     "status": "ok",
     "timestamp": 1735106425842,
     "user": {
      "displayName": "K YATHURAJ",
      "userId": "06817869074894730479"
     },
     "user_tz": -330
    },
    "id": "4RDiqgFjfyux"
   },
   "outputs": [],
   "source": [
    "lr_schedule = tf.keras.optimizers.schedules.ExponentialDecay(\n",
    "    initial_learning_rate=1e-4,\n",
    "    decay_steps=1000,\n",
    "    decay_rate=0.9)"
   ]
  },
  {
   "cell_type": "markdown",
   "metadata": {
    "id": "eJnwba-sc88U"
   },
   "source": [
    "### Generate new model"
   ]
  },
  {
   "cell_type": "code",
   "execution_count": 88,
   "metadata": {
    "executionInfo": {
     "elapsed": 16,
     "status": "ok",
     "timestamp": 1735106425843,
     "user": {
      "displayName": "K YATHURAJ",
      "userId": "06817869074894730479"
     },
     "user_tz": -330
    },
    "id": "Uye3-lUhaiLv"
   },
   "outputs": [],
   "source": [
    "new_model.compile(optimizer=tf.keras.optimizers.Adam(learning_rate=lr_schedule), loss=tf.keras.losses.CategoricalCrossentropy(from_logits=False,\n",
    "    label_smoothing=0,\n",
    "   reduction=\"sum_over_batch_size\",\n",
    "    name=\"categorical_crossentropy\"), metrics=['accuracy'])"
   ]
  },
  {
   "cell_type": "markdown",
   "metadata": {
    "id": "H_b5nENsc_JR"
   },
   "source": [
    "### Training"
   ]
  },
  {
   "cell_type": "code",
   "execution_count": 89,
   "metadata": {
    "colab": {
     "base_uri": "https://localhost:8080/"
    },
    "id": "Qg39SNppcopZ",
    "outputId": "8ff00660-df0d-4c62-e890-40df0235a06e"
   },
   "outputs": [
    {
     "name": "stdout",
     "output_type": "stream",
     "text": [
      "Epoch 1/20\n",
      "75/75 [==============================] - 131s 1s/step - loss: 2.2127 - accuracy: 0.2960 - val_loss: 2.3535 - val_accuracy: 0.2143\n",
      "Epoch 2/20\n",
      "75/75 [==============================] - 105s 1s/step - loss: 0.9651 - accuracy: 0.6622 - val_loss: 1.9507 - val_accuracy: 0.4152\n",
      "Epoch 3/20\n",
      "75/75 [==============================] - ETA: 0s - loss: 0.4231 - accuracy: 0.8696Restoring model weights from the end of the best epoch: 1.\n",
      "75/75 [==============================] - 103s 1s/step - loss: 0.4231 - accuracy: 0.8696 - val_loss: 1.8891 - val_accuracy: 0.4531\n",
      "Epoch 3: early stopping\n"
     ]
    }
   ],
   "source": [
    "history = new_model.fit(train_batches, validation_data=valid_batches, validation_steps=valid_steps, steps_per_epoch=train_steps, epochs=epochs,callbacks=[es_callback])"
   ]
  },
  {
   "cell_type": "markdown",
   "metadata": {
    "id": "M75KUjhMdC4T"
   },
   "source": [
    "### Evaluate training process"
   ]
  },
  {
   "cell_type": "code",
   "execution_count": 90,
   "metadata": {
    "id": "KJbNUdKtaiLw"
   },
   "outputs": [
    {
     "name": "stdout",
     "output_type": "stream",
     "text": [
      "75/75 [==============================] - 19s 253ms/step - loss: 1.0788 - accuracy: 0.5800\n"
     ]
    },
    {
     "data": {
      "text/plain": [
       "[1.078786849975586, 0.5799999833106995]"
      ]
     },
     "execution_count": 90,
     "metadata": {},
     "output_type": "execute_result"
    }
   ],
   "source": [
    "results = new_model.evaluate(train_batches,  steps=train_steps)\n",
    "results"
   ]
  },
  {
   "cell_type": "markdown",
   "metadata": {
    "id": "gPiOmt3BdWJ7"
   },
   "source": [
    "#### Loss function"
   ]
  },
  {
   "cell_type": "code",
   "execution_count": 91,
   "metadata": {
    "colab": {
     "background_save": true
    },
    "id": "iejCCZcNaiLw"
   },
   "outputs": [
    {
     "data": {
      "image/png": "[encoded data removed]",
      "text/plain": [
       "<Figure size 640x480 with 1 Axes>"
      ]
     },
     "metadata": {},
     "output_type": "display_data"
    }
   ],
   "source": [
    "plt.semilogy(history.epoch,  history.history['loss'], label='Train')\n",
    "plt.semilogy(history.epoch,  history.history['val_loss'], label='Validation')\n",
    "plt.xlabel('Epoch')\n",
    "plt.ylabel('Loss')\n",
    "plt.legend()\n",
    "plt.show()"
   ]
  },
  {
   "cell_type": "markdown",
   "metadata": {
    "id": "fvIg0vLtdY_0"
   },
   "source": [
    "#### Accuracy function"
   ]
  },
  {
   "cell_type": "code",
   "execution_count": 92,
   "metadata": {
    "colab": {
     "background_save": true
    },
    "id": "4daZQkmXaiLx"
   },
   "outputs": [
    {
     "data": {
      "image/png": "[encoded data removed]",
      "text/plain": [
       "<Figure size 640x480 with 1 Axes>"
      ]
     },
     "metadata": {},
     "output_type": "display_data"
    }
   ],
   "source": [
    "plt.semilogy(history.epoch, history.history['accuracy'], label='Train')\n",
    "plt.semilogy(history.epoch, history.history['val_accuracy'], label='Validation')\n",
    "plt.xlabel('Epoch')\n",
    "plt.ylabel('Accuracy')\n",
    "plt.legend()\n",
    "plt.show()"
   ]
  },
  {
   "cell_type": "code",
   "execution_count": 93,
   "metadata": {
    "colab": {
     "background_save": true
    },
    "id": "6kFJN-rWaiLy"
   },
   "outputs": [
    {
     "name": "stdout",
     "output_type": "stream",
     "text": [
      "76/76 [==============================] - 23s 295ms/step\n"
     ]
    }
   ],
   "source": [
    "Y_train_pred =new_model.predict(train_batches,train_steps)"
   ]
  },
  {
   "cell_type": "code",
   "execution_count": 94,
   "metadata": {
    "colab": {
     "background_save": true
    },
    "id": "ZMWTh6OpaiLy"
   },
   "outputs": [],
   "source": [
    "y_train_pred = np.argmax(Y_train_pred, axis=1)"
   ]
  },
  {
   "cell_type": "code",
   "execution_count": 95,
   "metadata": {
    "colab": {
     "background_save": true
    },
    "id": "AemeMFjMfyu4"
   },
   "outputs": [
    {
     "name": "stdout",
     "output_type": "stream",
     "text": [
      "1212\n",
      "1212\n"
     ]
    }
   ],
   "source": [
    "print(len(train_batches.classes))\n",
    "print(len(y_train_pred))"
   ]
  },
  {
   "cell_type": "markdown",
   "metadata": {
    "id": "WJBMtXZqdcbY"
   },
   "source": [
    "#### Confusion matrix"
   ]
  },
  {
   "cell_type": "code",
   "execution_count": 96,
   "metadata": {
    "colab": {
     "background_save": true
    },
    "id": "XQ5yse_wfyvF"
   },
   "outputs": [
    {
     "name": "stdout",
     "output_type": "stream",
     "text": [
      "76/76 [==============================] - 19s 252ms/step\n",
      "[[ 95  48   6   2   2  26   6  15   0]\n",
      " [100  47   7   3   2  24   4  13   2]\n",
      " [ 48  21   3   0   3  17   3   6   1]\n",
      " [ 46  29   3   0   3  11   4   3   3]\n",
      " [ 26  17   1   2   0   3   0   2   0]\n",
      " [ 94  49   4   4   4  27   7  11   1]\n",
      " [ 64  37   3   3   4  24   5  13   0]\n",
      " [ 44  23   3   3   2  13   3   9   1]\n",
      " [ 34  35   6   0   2  15   2   6   0]]\n"
     ]
    }
   ],
   "source": [
    "from sklearn.metrics import confusion_matrix\n",
    "import numpy as np\n",
    "\n",
    "# Assuming train_batches is your training data generator\n",
    "# Make predictions on the training set\n",
    "y_train_pred = new_model.predict(train_batches, steps=train_batches.samples // train_batches.batch_size + 1)\n",
    "y_train_pred_classes = np.argmax(y_train_pred, axis=1)\n",
    "\n",
    "# Ensure the lengths match\n",
    "assert len(train_batches.classes) == len(y_train_pred_classes), \"Mismatch in number of samples\"\n",
    "\n",
    "# Compute the confusion matrix\n",
    "cm_train = confusion_matrix(train_batches.classes, y_train_pred_classes)\n",
    "\n",
    "print(cm_train)\n",
    "\n",
    "# cm_train = confusion_matrix(train_batches.classes, y_train_pred)"
   ]
  },
  {
   "cell_type": "code",
   "execution_count": 97,
   "metadata": {
    "colab": {
     "background_save": true
    },
    "id": "IwH5VuYMaiLz"
   },
   "outputs": [
    {
     "data": {
      "text/plain": [
       "Text(0.5, 135.7222222222222, 'Predicted label')"
      ]
     },
     "execution_count": 97,
     "metadata": {},
     "output_type": "execute_result"
    },
    {
     "data": {
      "image/png": "[encoded data removed]",
      "text/plain": [
       "<Figure size 1500x1500 with 2 Axes>"
      ]
     },
     "metadata": {},
     "output_type": "display_data"
    }
   ],
   "source": [
    "plt.figure(figsize=(15,15))\n",
    "sns.heatmap(cm_train, annot=True, fmt=\"d\")\n",
    "plt.title('Confusion matrix (Train)')\n",
    "plt.ylabel('Actual label')\n",
    "plt.xlabel('Predicted label')"
   ]
  },
  {
   "cell_type": "markdown",
   "metadata": {
    "id": "1DA4hsw5dg5j"
   },
   "source": [
    "### Model testing"
   ]
  },
  {
   "cell_type": "code",
   "execution_count": 98,
   "metadata": {
    "id": "9l0uYBMrBYEX"
   },
   "outputs": [
    {
     "name": "stdout",
     "output_type": "stream",
     "text": [
      "29/29 [==============================] - 7s 248ms/step\n"
     ]
    }
   ],
   "source": [
    "Y_pred =new_model.predict(test_batches,test_steps)"
   ]
  },
  {
   "cell_type": "code",
   "execution_count": 99,
   "metadata": {
    "id": "NA-nFUxiaiLx"
   },
   "outputs": [],
   "source": [
    "y_pred = np.argmax(Y_pred, axis=1)"
   ]
  },
  {
   "cell_type": "code",
   "execution_count": 100,
   "metadata": {
    "id": "kZxYPbqdBvvm"
   },
   "outputs": [
    {
     "name": "stdout",
     "output_type": "stream",
     "text": [
      "29/29 [==============================] - 7s 229ms/step\n",
      "[[34 12  1  0  0  4  0  0  0]\n",
      " [29 10  0  0  0  9  0  3  0]\n",
      " [29 12  1  0  0  5  1  3  0]\n",
      " [35 11  0  0  0  4  0  1  0]\n",
      " [25 19  0  1  0  6  0  0  0]\n",
      " [26 16  1  0  0  5  1  2  0]\n",
      " [30 15  0  1  0  5  0  0  0]\n",
      " [28 15  0  1  0  6  0  0  0]\n",
      " [29 15  1  0  0  5  0  1  0]]\n"
     ]
    }
   ],
   "source": [
    "# cm = confusion_matrix(test_batches.classes, y_pred)\n",
    "\n",
    "from sklearn.metrics import confusion_matrix\n",
    "import numpy as np\n",
    "\n",
    "# Assuming test_batches is your test data generator\n",
    "# Make predictions on the test set\n",
    "y_pred = new_model.predict(test_batches, steps=test_batches.samples // test_batches.batch_size + 1)\n",
    "y_pred_classes = np.argmax(y_pred, axis=1)\n",
    "\n",
    "# Ensure the lengths match\n",
    "assert len(test_batches.classes) == len(y_pred_classes), \"Mismatch in number of samples\"\n",
    "\n",
    "# Compute the confusion matrix\n",
    "cm = confusion_matrix(test_batches.classes, y_pred_classes)\n",
    "\n",
    "print(cm)"
   ]
  },
  {
   "cell_type": "code",
   "execution_count": 101,
   "metadata": {
    "colab": {
     "background_save": true
    },
    "id": "wQjFACoBB2t5"
   },
   "outputs": [
    {
     "data": {
      "text/plain": [
       "Text(0.5, 135.7222222222222, 'Predicted label')"
      ]
     },
     "execution_count": 101,
     "metadata": {},
     "output_type": "execute_result"
    },
    {
     "data": {
      "image/png": "[encoded data removed]",
      "text/plain": [
       "<Figure size 1500x1500 with 2 Axes>"
      ]
     },
     "metadata": {},
     "output_type": "display_data"
    }
   ],
   "source": [
    "plt.figure(figsize=(15,15))\n",
    "sns.heatmap(cm, annot=True, fmt=\"d\")\n",
    "plt.title('Confusion matrix')\n",
    "plt.ylabel('Actual label')\n",
    "plt.xlabel('Predicted label')"
   ]
  },
  {
   "cell_type": "markdown",
   "metadata": {},
   "source": [
    "Evaluate model on test set"
   ]
  },
  {
   "cell_type": "code",
   "execution_count": 102,
   "metadata": {},
   "outputs": [
    {
     "name": "stdout",
     "output_type": "stream",
     "text": [
      "28/28 [==============================] - 7s 231ms/step - loss: 2.3764 - accuracy: 0.2321\n",
      "Test Loss: 2.376363754272461, Test Accuracy: 0.2321428507566452\n"
     ]
    }
   ],
   "source": [
    "test_loss, test_accuracy = new_model.evaluate(test_batches, steps=test_steps)\n",
    "print(f'Test Loss: {test_loss}, Test Accuracy: {test_accuracy}')"
   ]
  },
  {
   "cell_type": "markdown",
   "metadata": {},
   "source": [
    "Evaluation Matrix"
   ]
  },
  {
   "cell_type": "code",
   "execution_count": 103,
   "metadata": {},
   "outputs": [
    {
     "name": "stdout",
     "output_type": "stream",
     "text": [
      "29/29 [==============================] - 7s 226ms/step\n",
      "              precision    recall  f1-score   support\n",
      "\n",
      "   Duryodhan       0.13      0.67      0.22        51\n",
      "       Ganga       0.13      0.31      0.18        51\n",
      "        Lali       0.25      0.02      0.04        51\n",
      "  Parashuram       0.00      0.00      0.00        51\n",
      "        Raju       0.00      0.00      0.00        51\n",
      "Sivilbahadur       0.06      0.06      0.06        51\n",
      "        Sonu       0.50      0.02      0.04        51\n",
      "   Tirathram       0.20      0.04      0.07        50\n",
      "    Yoglaxmi       0.00      0.00      0.00        51\n",
      "\n",
      "    accuracy                           0.12       458\n",
      "   macro avg       0.14      0.12      0.07       458\n",
      "weighted avg       0.14      0.12      0.07       458\n",
      "\n"
     ]
    }
   ],
   "source": [
    "from sklearn.metrics import classification_report\n",
    "\n",
    "# Make predictions on the test set\n",
    "y_pred = new_model.predict(test_batches, steps=test_batches.samples // test_batches.batch_size + 1)\n",
    "y_pred_classes = np.argmax(y_pred, axis=1)\n",
    "\n",
    "# Ensure the lengths match\n",
    "assert len(test_batches.classes) == len(y_pred_classes), \"Mismatch in number of samples\"\n",
    "\n",
    "# Generate classification report\n",
    "report = classification_report(test_batches.classes, y_pred_classes, target_names=test_batches.class_indices.keys())\n",
    "print(report)"
   ]
  },
  {
   "cell_type": "markdown",
   "metadata": {
    "id": "AY1sgUoIdoHm"
   },
   "source": [
    "### Save model"
   ]
  },
  {
   "cell_type": "code",
   "execution_count": 105,
   "metadata": {
    "colab": {
     "background_save": true
    },
    "id": "FUwqwmJxaiL0"
   },
   "outputs": [],
   "source": [
    "new_model.save('mobilenetv4_new.h5')"
   ]
  }
 ],
 "metadata": {
  "accelerator": "GPU",
  "colab": {
   "name": "",
   "toc_visible": true,
   "version": ""
  },
  "kernelspec": {
   "display_name": "Python 3",
   "language": "python",
   "name": "python3"
  },
  "language_info": {
   "codemirror_mode": {
    "name": "ipython",
    "version": 3
   },
   "file_extension": ".py",
   "mimetype": "text/x-python",
   "name": "python",
   "nbconvert_exporter": "python",
   "pygments_lexer": "ipython3",
   "version": "3.7.8"
  }
 },
 "nbformat": 4,
 "nbformat_minor": 0
}
