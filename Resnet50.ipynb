{
  "cells": [
    {
      "cell_type": "markdown",
      "metadata": {
        "id": "nO-5u_G9eVNF"
      },
      "source": [
        "## ResNet50 Model Training Porocess"
      ]
    },
    {
      "cell_type": "markdown",
      "metadata": {
        "id": "OjcpyoRjbMds"
      },
      "source": [
        "### Import libraries"
      ]
    },
    {
      "cell_type": "code",
      "execution_count": 38,
      "metadata": {
        "id": "q80TAieG7f3e"
      },
      "outputs": [],
      "source": [
        "import numpy as np\n",
        "import keras\n",
        "import tensorflow as tf\n",
        "from matplotlib import pyplot as plt\n",
        "from time import time\n",
        "import warnings\n",
        "from sklearn.metrics import classification_report, confusion_matrix\n",
        "import itertools\n",
        "import os\n",
        "import seaborn as sns\n",
        "import matplotlib.pyplot as plt\n",
        "warnings.filterwarnings(\"ignore\")\n",
        "%matplotlib inline"
      ]
    },
    {
      "cell_type": "markdown",
      "metadata": {
        "id": "9UUSCwUWbPgt"
      },
      "source": [
        "### Dataset paths"
      ]
    },
    {
      "cell_type": "code",
      "execution_count": 39,
      "metadata": {
        "id": "TQQIwBKx7yK3"
      },
      "outputs": [],
      "source": [
        "train_path = 'split_data/train'\n",
        "valid_path = 'split_data/val'\n",
        "test_path = 'split_data/test'"
      ]
    },
    {
      "cell_type": "markdown",
      "metadata": {
        "id": "Jn2EgL7QbTg-"
      },
      "source": [
        "### Training classes"
      ]
    },
    {
      "cell_type": "code",
      "execution_count": 40,
      "metadata": {
        "id": "GuNizLaoaiLp"
      },
      "outputs": [],
      "source": [
        "train_classes = os.listdir(train_path)"
      ]
    },
    {
      "cell_type": "markdown",
      "metadata": {
        "id": "-0puXx1EbW-L"
      },
      "source": [
        "### Training batch sizes"
      ]
    },
    {
      "cell_type": "code",
      "execution_count": 41,
      "metadata": {
        "id": "mUN-3ndJaiLq"
      },
      "outputs": [],
      "source": [
        "train_batch_size = 8\n",
        "test_batch_size = 8\n",
        "valid_batch_size = 8"
      ]
    },
    {
      "cell_type": "markdown",
      "metadata": {
        "id": "NxBhuX7obZMb"
      },
      "source": [
        "### Training samples"
      ]
    },
    {
      "cell_type": "code",
      "execution_count": 65,
      "metadata": {},
      "outputs": [
        {
          "name": "stdout",
          "output_type": "stream",
          "text": [
            "Training samples: 1870\n",
            "Test samples: 401\n",
            "Validation samples: 401\n"
          ]
        }
      ],
      "source": [
        "# Count the number of samples in each directory\n",
        "train_n = sum([len(files) for r, d, files in os.walk(train_path)])\n",
        "test_n = sum([len(files) for r, d, files in os.walk(test_path)])\n",
        "valid_n = sum([len(files) for r, d, files in os.walk(valid_path)])\n",
        "\n",
        "print(f'Training samples: {train_n}')\n",
        "print(f'Test samples: {test_n}')\n",
        "print(f'Validation samples: {valid_n}')"
      ]
    },
    {
      "cell_type": "code",
      "execution_count": 43,
      "metadata": {
        "id": "xNatr3_TaiLq"
      },
      "outputs": [],
      "source": [
        "\n",
        "train_n = 1870\n",
        "test_n = 401\n",
        "valid_n = 401"
      ]
    },
    {
      "cell_type": "markdown",
      "metadata": {
        "id": "7ZrycWZtcXFR"
      },
      "source": [
        "### Training steps (per epoch)"
      ]
    },
    {
      "cell_type": "code",
      "execution_count": 44,
      "metadata": {
        "id": "cyuud8qxaiLq"
      },
      "outputs": [],
      "source": [
        "train_steps = train_n//train_batch_size\n",
        "valid_steps = valid_n//valid_batch_size\n",
        "test_steps = test_n//test_batch_size"
      ]
    },
    {
      "cell_type": "markdown",
      "metadata": {
        "id": "gmm0ZQQFcaRR"
      },
      "source": [
        "### Epochs"
      ]
    },
    {
      "cell_type": "code",
      "execution_count": 45,
      "metadata": {
        "id": "bGwB0vq_aiLr"
      },
      "outputs": [],
      "source": [
        "epochs = 10"
      ]
    },
    {
      "cell_type": "markdown",
      "metadata": {
        "id": "4b3I5kiUceiH"
      },
      "source": [
        "### Generate batches"
      ]
    },
    {
      "cell_type": "code",
      "execution_count": 46,
      "metadata": {
        "id": "TcxoJHZ7y8_e"
      },
      "outputs": [
        {
          "name": "stdout",
          "output_type": "stream",
          "text": [
            "Found 1870 images belonging to 9 classes.\n",
            "Found 401 images belonging to 9 classes.\n",
            "Found 401 images belonging to 9 classes.\n"
          ]
        }
      ],
      "source": [
        "train_batches = tf.keras.preprocessing.image.ImageDataGenerator().flow_from_directory(train_path, target_size=(128,128), classes=train_classes, batch_size=train_batch_size)\n",
        "valid_batches = tf.keras.preprocessing.image.ImageDataGenerator().flow_from_directory(valid_path, target_size=(128,128), classes=train_classes, batch_size=valid_batch_size)\n",
        "test_batches = tf.keras.preprocessing.image.ImageDataGenerator().flow_from_directory(test_path, target_size=(128,128), classes=train_classes, batch_size=test_batch_size)"
      ]
    },
    {
      "cell_type": "markdown",
      "metadata": {
        "id": "h5rufm0icjNA"
      },
      "source": [
        "### Base model (ResNet50)"
      ]
    },
    {
      "cell_type": "markdown",
      "metadata": {
        "id": "bohTRaH9crSj"
      },
      "source": [
        "#### Training from scratch"
      ]
    },
    {
      "cell_type": "code",
      "execution_count": 47,
      "metadata": {
        "id": "xrh6AuZb-6XR"
      },
      "outputs": [],
      "source": [
        "base_model = tf.keras.applications.ResNet50(include_top=False,\n",
        "    weights=None,\n",
        "    pooling='avg')"
      ]
    },
    {
      "cell_type": "code",
      "execution_count": 48,
      "metadata": {
        "id": "OG6YUnntaiLu"
      },
      "outputs": [],
      "source": [
        "for layer in base_model.layers:\n",
        "    layer.trainable = False"
      ]
    },
    {
      "cell_type": "code",
      "execution_count": 49,
      "metadata": {
        "id": "4n5SXVWRaiLu"
      },
      "outputs": [],
      "source": [
        "output =  tf.keras.layers.Dense(len(train_classes), activation='softmax')(base_model.output)\n",
        "new_model = tf.keras.Model(base_model.input, output)"
      ]
    },
    {
      "cell_type": "markdown",
      "metadata": {
        "id": "LkV6Oy1bcwW0"
      },
      "source": [
        "### Set early stopping\n",
        "Avoids model overfitting"
      ]
    },
    {
      "cell_type": "code",
      "execution_count": 50,
      "metadata": {
        "id": "_0UVP757aiLu"
      },
      "outputs": [],
      "source": [
        "es_callback = tf.keras.callbacks.EarlyStopping(\n",
        "    monitor='val_accuracy',\n",
        "    verbose=1,\n",
        "    patience=2,\n",
        "    mode='max',\n",
        "    restore_best_weights=True\n",
        ")"
      ]
    },
    {
      "cell_type": "markdown",
      "metadata": {
        "id": "eJnwba-sc88U"
      },
      "source": [
        "### Generate new model"
      ]
    },
    {
      "cell_type": "code",
      "execution_count": 51,
      "metadata": {
        "id": "Uye3-lUhaiLv"
      },
      "outputs": [],
      "source": [
        "new_model.compile(optimizer=tf.keras.optimizers.Adam(learning_rate=0.001), loss=tf.keras.losses.CategoricalCrossentropy(from_logits=False,\n",
        "    label_smoothing=0,\n",
        "    reduction=\"auto\",\n",
        "    name=\"categorical_crossentropy\"), metrics=['accuracy'])"
      ]
    },
    {
      "cell_type": "markdown",
      "metadata": {
        "id": "H_b5nENsc_JR"
      },
      "source": [
        "### Training"
      ]
    },
    {
      "cell_type": "code",
      "execution_count": 52,
      "metadata": {
        "id": "Qg39SNppcopZ"
      },
      "outputs": [
        {
          "name": "stdout",
          "output_type": "stream",
          "text": [
            "Epoch 1/10\n",
            "233/233 [==============================] - 159s 624ms/step - loss: 3.1908 - accuracy: 0.2583 - val_loss: 1.9154 - val_accuracy: 0.4550\n",
            "Epoch 2/10\n",
            "233/233 [==============================] - 144s 619ms/step - loss: 2.1887 - accuracy: 0.4103 - val_loss: 1.9904 - val_accuracy: 0.5375\n",
            "Epoch 3/10\n",
            "233/233 [==============================] - 137s 589ms/step - loss: 1.8624 - accuracy: 0.5027 - val_loss: 1.0120 - val_accuracy: 0.6050\n",
            "Epoch 4/10\n",
            "233/233 [==============================] - 148s 635ms/step - loss: 1.5167 - accuracy: 0.6015 - val_loss: 1.8002 - val_accuracy: 0.4975\n",
            "Epoch 5/10\n",
            "233/233 [==============================] - 152s 649ms/step - loss: 1.3589 - accuracy: 0.6214 - val_loss: 0.8584 - val_accuracy: 0.6625\n",
            "Epoch 6/10\n",
            "233/233 [==============================] - 155s 668ms/step - loss: 1.1664 - accuracy: 0.6568 - val_loss: 1.1013 - val_accuracy: 0.6575\n",
            "Epoch 7/10\n",
            "233/233 [==============================] - ETA: 0s - loss: 1.0472 - accuracy: 0.7062Restoring model weights from the end of the best epoch: 5.\n",
            "233/233 [==============================] - 148s 635ms/step - loss: 1.0472 - accuracy: 0.7062 - val_loss: 1.1456 - val_accuracy: 0.5800\n",
            "Epoch 7: early stopping\n"
          ]
        }
      ],
      "source": [
        "history = new_model.fit_generator(train_batches, validation_data=valid_batches, validation_steps=valid_steps, steps_per_epoch=train_steps, epochs=epochs,callbacks=[ es_callback])"
      ]
    },
    {
      "cell_type": "markdown",
      "metadata": {
        "id": "M75KUjhMdC4T"
      },
      "source": [
        "### Evaluate training process"
      ]
    },
    {
      "cell_type": "code",
      "execution_count": 53,
      "metadata": {
        "id": "KJbNUdKtaiLw"
      },
      "outputs": [
        {
          "data": {
            "text/plain": [
              "[0.8432233333587646, 0.6486051678657532]"
            ]
          },
          "execution_count": 53,
          "metadata": {},
          "output_type": "execute_result"
        }
      ],
      "source": [
        "results = new_model.evaluate_generator(train_batches, train_steps)\n",
        "results"
      ]
    },
    {
      "cell_type": "markdown",
      "metadata": {
        "id": "gPiOmt3BdWJ7"
      },
      "source": [
        "#### Loss function"
      ]
    },
    {
      "cell_type": "code",
      "execution_count": 54,
      "metadata": {
        "id": "iejCCZcNaiLw"
      },
      "outputs": [
        {
          "data": {
            "image/png": "[encoded data removed]",
            "text/plain": [
              "<Figure size 640x480 with 1 Axes>"
            ]
          },
          "metadata": {},
          "output_type": "display_data"
        }
      ],
      "source": [
        "plt.semilogy(history.epoch,  history.history['loss'], label='Train')\n",
        "plt.semilogy(history.epoch,  history.history['val_loss'], label='Validation')\n",
        "plt.xlabel('Epoch')\n",
        "plt.ylabel('Loss')\n",
        "plt.legend()\n",
        "plt.show()"
      ]
    },
    {
      "cell_type": "markdown",
      "metadata": {
        "id": "fvIg0vLtdY_0"
      },
      "source": [
        "#### Accuracy function"
      ]
    },
    {
      "cell_type": "code",
      "execution_count": 55,
      "metadata": {
        "id": "4daZQkmXaiLx"
      },
      "outputs": [
        {
          "data": {
            "image/png": "[encoded data removed]",
            "text/plain": [
              "<Figure size 640x480 with 1 Axes>"
            ]
          },
          "metadata": {},
          "output_type": "display_data"
        }
      ],
      "source": [
        "plt.semilogy(history.epoch,  history.history['accuracy'], label='Train')\n",
        "plt.semilogy(history.epoch,  history.history['val_accuracy'], label='Validation')\n",
        "plt.xlabel('Epoch')\n",
        "plt.ylabel('Accuracy')\n",
        "plt.legend()\n",
        "plt.show()"
      ]
    },
    {
      "cell_type": "code",
      "execution_count": 56,
      "metadata": {
        "id": "6kFJN-rWaiLy"
      },
      "outputs": [],
      "source": [
        "Y_train_pred =new_model.predict_generator(train_batches,train_steps)"
      ]
    },
    {
      "cell_type": "code",
      "execution_count": 57,
      "metadata": {
        "id": "ZMWTh6OpaiLy"
      },
      "outputs": [],
      "source": [
        "y_train_pred = np.argmax(Y_train_pred, axis=1)"
      ]
    },
    {
      "cell_type": "code",
      "execution_count": 59,
      "metadata": {},
      "outputs": [
        {
          "name": "stdout",
          "output_type": "stream",
          "text": [
            "1870\n",
            "1864\n"
          ]
        }
      ],
      "source": [
        "print(len(train_batches.classes))\n",
        "print(len(y_train_pred))"
      ]
    },
    {
      "cell_type": "markdown",
      "metadata": {
        "id": "WJBMtXZqdcbY"
      },
      "source": [
        "#### Confusion matrix"
      ]
    },
    {
      "cell_type": "code",
      "execution_count": 58,
      "metadata": {
        "id": "bfzGQv-LaiLy"
      },
      "outputs": [
        {
          "ename": "ValueError",
          "evalue": "Found input variables with inconsistent numbers of samples: [1870, 1864]",
          "output_type": "error",
          "traceback": [
            "\u001b[1;31m---------------------------------------------------------------------------\u001b[0m",
            "\u001b[1;31mValueError\u001b[0m                                Traceback (most recent call last)",
            "\u001b[1;32m~\\AppData\\Local\\Temp\\ipykernel_15276\\977335696.py\u001b[0m in \u001b[0;36m<module>\u001b[1;34m\u001b[0m\n\u001b[1;32m----> 1\u001b[1;33m \u001b[0mcm_train\u001b[0m \u001b[1;33m=\u001b[0m \u001b[0mconfusion_matrix\u001b[0m\u001b[1;33m(\u001b[0m\u001b[0mtrain_batches\u001b[0m\u001b[1;33m.\u001b[0m\u001b[0mclasses\u001b[0m\u001b[1;33m,\u001b[0m \u001b[0my_train_pred\u001b[0m\u001b[1;33m)\u001b[0m\u001b[1;33m\u001b[0m\u001b[1;33m\u001b[0m\u001b[0m\n\u001b[0m",
            "\u001b[1;32mc:\\Users\\hp\\AppData\\Local\\Programs\\Python\\Python37\\lib\\site-packages\\sklearn\\metrics\\_classification.py\u001b[0m in \u001b[0;36mconfusion_matrix\u001b[1;34m(y_true, y_pred, labels, sample_weight, normalize)\u001b[0m\n\u001b[0;32m    305\u001b[0m     \u001b[1;33m(\u001b[0m\u001b[1;36m0\u001b[0m\u001b[1;33m,\u001b[0m \u001b[1;36m2\u001b[0m\u001b[1;33m,\u001b[0m \u001b[1;36m1\u001b[0m\u001b[1;33m,\u001b[0m \u001b[1;36m1\u001b[0m\u001b[1;33m)\u001b[0m\u001b[1;33m\u001b[0m\u001b[1;33m\u001b[0m\u001b[0m\n\u001b[0;32m    306\u001b[0m     \"\"\"\n\u001b[1;32m--> 307\u001b[1;33m     \u001b[0my_type\u001b[0m\u001b[1;33m,\u001b[0m \u001b[0my_true\u001b[0m\u001b[1;33m,\u001b[0m \u001b[0my_pred\u001b[0m \u001b[1;33m=\u001b[0m \u001b[0m_check_targets\u001b[0m\u001b[1;33m(\u001b[0m\u001b[0my_true\u001b[0m\u001b[1;33m,\u001b[0m \u001b[0my_pred\u001b[0m\u001b[1;33m)\u001b[0m\u001b[1;33m\u001b[0m\u001b[1;33m\u001b[0m\u001b[0m\n\u001b[0m\u001b[0;32m    308\u001b[0m     \u001b[1;32mif\u001b[0m \u001b[0my_type\u001b[0m \u001b[1;32mnot\u001b[0m \u001b[1;32min\u001b[0m \u001b[1;33m(\u001b[0m\u001b[1;34m\"binary\"\u001b[0m\u001b[1;33m,\u001b[0m \u001b[1;34m\"multiclass\"\u001b[0m\u001b[1;33m)\u001b[0m\u001b[1;33m:\u001b[0m\u001b[1;33m\u001b[0m\u001b[1;33m\u001b[0m\u001b[0m\n\u001b[0;32m    309\u001b[0m         \u001b[1;32mraise\u001b[0m \u001b[0mValueError\u001b[0m\u001b[1;33m(\u001b[0m\u001b[1;34m\"%s is not supported\"\u001b[0m \u001b[1;33m%\u001b[0m \u001b[0my_type\u001b[0m\u001b[1;33m)\u001b[0m\u001b[1;33m\u001b[0m\u001b[1;33m\u001b[0m\u001b[0m\n",
            "\u001b[1;32mc:\\Users\\hp\\AppData\\Local\\Programs\\Python\\Python37\\lib\\site-packages\\sklearn\\metrics\\_classification.py\u001b[0m in \u001b[0;36m_check_targets\u001b[1;34m(y_true, y_pred)\u001b[0m\n\u001b[0;32m     82\u001b[0m     \u001b[0my_pred\u001b[0m \u001b[1;33m:\u001b[0m \u001b[0marray\u001b[0m \u001b[1;32mor\u001b[0m \u001b[0mindicator\u001b[0m \u001b[0mmatrix\u001b[0m\u001b[1;33m\u001b[0m\u001b[1;33m\u001b[0m\u001b[0m\n\u001b[0;32m     83\u001b[0m     \"\"\"\n\u001b[1;32m---> 84\u001b[1;33m     \u001b[0mcheck_consistent_length\u001b[0m\u001b[1;33m(\u001b[0m\u001b[0my_true\u001b[0m\u001b[1;33m,\u001b[0m \u001b[0my_pred\u001b[0m\u001b[1;33m)\u001b[0m\u001b[1;33m\u001b[0m\u001b[1;33m\u001b[0m\u001b[0m\n\u001b[0m\u001b[0;32m     85\u001b[0m     \u001b[0mtype_true\u001b[0m \u001b[1;33m=\u001b[0m \u001b[0mtype_of_target\u001b[0m\u001b[1;33m(\u001b[0m\u001b[0my_true\u001b[0m\u001b[1;33m)\u001b[0m\u001b[1;33m\u001b[0m\u001b[1;33m\u001b[0m\u001b[0m\n\u001b[0;32m     86\u001b[0m     \u001b[0mtype_pred\u001b[0m \u001b[1;33m=\u001b[0m \u001b[0mtype_of_target\u001b[0m\u001b[1;33m(\u001b[0m\u001b[0my_pred\u001b[0m\u001b[1;33m)\u001b[0m\u001b[1;33m\u001b[0m\u001b[1;33m\u001b[0m\u001b[0m\n",
            "\u001b[1;32mc:\\Users\\hp\\AppData\\Local\\Programs\\Python\\Python37\\lib\\site-packages\\sklearn\\utils\\validation.py\u001b[0m in \u001b[0;36mcheck_consistent_length\u001b[1;34m(*arrays)\u001b[0m\n\u001b[0;32m    332\u001b[0m         raise ValueError(\n\u001b[0;32m    333\u001b[0m             \u001b[1;34m\"Found input variables with inconsistent numbers of samples: %r\"\u001b[0m\u001b[1;33m\u001b[0m\u001b[1;33m\u001b[0m\u001b[0m\n\u001b[1;32m--> 334\u001b[1;33m             \u001b[1;33m%\u001b[0m \u001b[1;33m[\u001b[0m\u001b[0mint\u001b[0m\u001b[1;33m(\u001b[0m\u001b[0ml\u001b[0m\u001b[1;33m)\u001b[0m \u001b[1;32mfor\u001b[0m \u001b[0ml\u001b[0m \u001b[1;32min\u001b[0m \u001b[0mlengths\u001b[0m\u001b[1;33m]\u001b[0m\u001b[1;33m\u001b[0m\u001b[1;33m\u001b[0m\u001b[0m\n\u001b[0m\u001b[0;32m    335\u001b[0m         )\n\u001b[0;32m    336\u001b[0m \u001b[1;33m\u001b[0m\u001b[0m\n",
            "\u001b[1;31mValueError\u001b[0m: Found input variables with inconsistent numbers of samples: [1870, 1864]"
          ]
        }
      ],
      "source": [
        "cm_train = confusion_matrix(train_batches.classes, y_train_pred)"
      ]
    },
    {
      "cell_type": "code",
      "execution_count": null,
      "metadata": {
        "id": "IwH5VuYMaiLz"
      },
      "outputs": [],
      "source": [
        "plt.figure(figsize=(15,15))\n",
        "sns.heatmap(cm_train, annot=True, fmt=\"d\")\n",
        "plt.title('Confusion matrix (Train)')\n",
        "plt.ylabel('Actual label')\n",
        "plt.xlabel('Predicted label')"
      ]
    },
    {
      "cell_type": "markdown",
      "metadata": {
        "id": "1DA4hsw5dg5j"
      },
      "source": [
        "### Model testing"
      ]
    },
    {
      "cell_type": "code",
      "execution_count": null,
      "metadata": {
        "id": "9l0uYBMrBYEX"
      },
      "outputs": [],
      "source": [
        "Y_pred =new_model.predict_generator(test_batches,test_steps)"
      ]
    },
    {
      "cell_type": "code",
      "execution_count": null,
      "metadata": {
        "id": "NA-nFUxiaiLx"
      },
      "outputs": [],
      "source": [
        "y_pred = np.argmax(Y_pred, axis=1)"
      ]
    },
    {
      "cell_type": "code",
      "execution_count": null,
      "metadata": {
        "id": "kZxYPbqdBvvm"
      },
      "outputs": [],
      "source": [
        "cm = confusion_matrix(test_batches.classes, y_pred)"
      ]
    },
    {
      "cell_type": "code",
      "execution_count": null,
      "metadata": {
        "id": "wQjFACoBB2t5"
      },
      "outputs": [],
      "source": [
        "plt.figure(figsize=(15,15))\n",
        "sns.heatmap(cm, annot=True, fmt=\"d\")\n",
        "plt.title('Confusion matrix')\n",
        "plt.ylabel('Actual label')\n",
        "plt.xlabel('Predicted label')"
      ]
    },
    {
      "cell_type": "markdown",
      "metadata": {
        "id": "AY1sgUoIdoHm"
      },
      "source": [
        "### Save model"
      ]
    },
    {
      "cell_type": "code",
      "execution_count": 66,
      "metadata": {
        "id": "FUwqwmJxaiL0"
      },
      "outputs": [],
      "source": [
        "new_model.save('Resnet50_new.h5')"
      ]
    }
  ],
  "metadata": {
    "accelerator": "GPU",
    "colab": {
      "collapsed_sections": [],
      "name": "vgg16",
      "provenance": [],
      "toc_visible": true
    },
    "kernelspec": {
      "display_name": "Python 3",
      "language": "python",
      "name": "python3"
    },
    "language_info": {
      "codemirror_mode": {
        "name": "ipython",
        "version": 3
      },
      "file_extension": ".py",
      "mimetype": "text/x-python",
      "name": "python",
      "nbconvert_exporter": "python",
      "pygments_lexer": "ipython3",
      "version": "3.7.8"
    }
  },
  "nbformat": 4,
  "nbformat_minor": 0
}
