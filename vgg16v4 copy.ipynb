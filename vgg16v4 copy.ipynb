{
 "cells": [
  {
   "cell_type": "markdown",
   "metadata": {
    "id": "nO-5u_G9eVNF"
   },
   "source": [
    "## AlexNet Model Training Porocess"
   ]
  },
  {
   "cell_type": "markdown",
   "metadata": {
    "id": "OjcpyoRjbMds"
   },
   "source": [
    "### Import libraries"
   ]
  },
  {
   "cell_type": "code",
   "execution_count": 61,
   "metadata": {
    "executionInfo": {
     "elapsed": 3359,
     "status": "ok",
     "timestamp": 1735106416084,
     "user": {
      "displayName": "K YATHURAJ",
      "userId": "06817869074894730479"
     },
     "user_tz": -330
    },
    "id": "q80TAieG7f3e"
   },
   "outputs": [],
   "source": [
    "import numpy as np\n",
    "import keras\n",
    "import tensorflow as tf\n",
    "from matplotlib import pyplot as plt\n",
    "from time import time\n",
    "import warnings\n",
    "from sklearn.metrics import classification_report, confusion_matrix\n",
    "import itertools\n",
    "import os\n",
    "import seaborn as sns\n",
    "import matplotlib.pyplot as plt\n",
    "warnings.filterwarnings(\"ignore\")\n",
    "%matplotlib inline"
   ]
  },
  {
   "cell_type": "markdown",
   "metadata": {
    "id": "9UUSCwUWbPgt"
   },
   "source": [
    "### Dataset paths"
   ]
  },
  {
   "cell_type": "code",
   "execution_count": 62,
   "metadata": {
    "executionInfo": {
     "elapsed": 44,
     "status": "ok",
     "timestamp": 1735106424117,
     "user": {
      "displayName": "K YATHURAJ",
      "userId": "06817869074894730479"
     },
     "user_tz": -330
    },
    "id": "TQQIwBKx7yK3"
   },
   "outputs": [],
   "source": [
    "train_path = 'new_augmentation/train'\n",
    "valid_path = 'new_augmentation/val'\n",
    "test_path = 'new_augmentation/test'"
   ]
  },
  {
   "cell_type": "markdown",
   "metadata": {
    "id": "Jn2EgL7QbTg-"
   },
   "source": [
    "### Training classes"
   ]
  },
  {
   "cell_type": "code",
   "execution_count": 63,
   "metadata": {
    "executionInfo": {
     "elapsed": 43,
     "status": "ok",
     "timestamp": 1735106424118,
     "user": {
      "displayName": "K YATHURAJ",
      "userId": "06817869074894730479"
     },
     "user_tz": -330
    },
    "id": "GuNizLaoaiLp"
   },
   "outputs": [],
   "source": [
    "train_classes = os.listdir(train_path)"
   ]
  },
  {
   "cell_type": "markdown",
   "metadata": {
    "id": "-0puXx1EbW-L"
   },
   "source": [
    "### Training batch sizes"
   ]
  },
  {
   "cell_type": "code",
   "execution_count": 64,
   "metadata": {
    "executionInfo": {
     "elapsed": 41,
     "status": "ok",
     "timestamp": 1735106424118,
     "user": {
      "displayName": "K YATHURAJ",
      "userId": "06817869074894730479"
     },
     "user_tz": -330
    },
    "id": "mUN-3ndJaiLq"
   },
   "outputs": [],
   "source": [
    "train_batch_size = 16\n",
    "test_batch_size = 16\n",
    "valid_batch_size = 16"
   ]
  },
  {
   "cell_type": "markdown",
   "metadata": {
    "id": "NxBhuX7obZMb"
   },
   "source": [
    "### Training samples"
   ]
  },
  {
   "cell_type": "code",
   "execution_count": 65,
   "metadata": {
    "colab": {
     "base_uri": "https://localhost:8080/"
    },
    "executionInfo": {
     "elapsed": 41,
     "status": "ok",
     "timestamp": 1735106424119,
     "user": {
      "displayName": "K YATHURAJ",
      "userId": "06817869074894730479"
     },
     "user_tz": -330
    },
    "id": "EU6stHiMfyuq",
    "outputId": "b46f8e23-3d92-4f16-e079-cd91b0c7946d"
   },
   "outputs": [
    {
     "name": "stdout",
     "output_type": "stream",
     "text": [
      "Training samples: 1212\n",
      "Test samples: 458\n",
      "Validation samples: 457\n"
     ]
    }
   ],
   "source": [
    "\n",
    "# Count the number of samples in each directory\n",
    "train_n = sum([len(files) for r, d, files in os.walk(train_path)])\n",
    "test_n = sum([len(files) for r, d, files in os.walk(test_path)])\n",
    "valid_n = sum([len(files) for r, d, files in os.walk(valid_path)])\n",
    "\n",
    "print(f'Training samples: {train_n}')\n",
    "print(f'Test samples: {test_n}')\n",
    "print(f'Validation samples: {valid_n}')"
   ]
  },
  {
   "cell_type": "code",
   "execution_count": 66,
   "metadata": {
    "executionInfo": {
     "elapsed": 28,
     "status": "ok",
     "timestamp": 1735106424119,
     "user": {
      "displayName": "K YATHURAJ",
      "userId": "06817869074894730479"
     },
     "user_tz": -330
    },
    "id": "xNatr3_TaiLq"
   },
   "outputs": [],
   "source": [
    "train_n = 1212\n",
    "test_n = 458\n",
    "valid_n = 457"
   ]
  },
  {
   "cell_type": "markdown",
   "metadata": {
    "id": "7ZrycWZtcXFR"
   },
   "source": [
    "### Training steps (per epoch)"
   ]
  },
  {
   "cell_type": "code",
   "execution_count": 67,
   "metadata": {
    "executionInfo": {
     "elapsed": 27,
     "status": "ok",
     "timestamp": 1735106424119,
     "user": {
      "displayName": "K YATHURAJ",
      "userId": "06817869074894730479"
     },
     "user_tz": -330
    },
    "id": "cyuud8qxaiLq"
   },
   "outputs": [],
   "source": [
    "train_steps = train_n//train_batch_size\n",
    "valid_steps = valid_n//valid_batch_size\n",
    "test_steps = test_n//test_batch_size"
   ]
  },
  {
   "cell_type": "markdown",
   "metadata": {
    "id": "gmm0ZQQFcaRR"
   },
   "source": [
    "### Epochs"
   ]
  },
  {
   "cell_type": "code",
   "execution_count": 68,
   "metadata": {
    "executionInfo": {
     "elapsed": 28,
     "status": "ok",
     "timestamp": 1735106424120,
     "user": {
      "displayName": "K YATHURAJ",
      "userId": "06817869074894730479"
     },
     "user_tz": -330
    },
    "id": "bGwB0vq_aiLr"
   },
   "outputs": [],
   "source": [
    "epochs = 20"
   ]
  },
  {
   "cell_type": "markdown",
   "metadata": {
    "id": "4b3I5kiUceiH"
   },
   "source": [
    "### Generate batches"
   ]
  },
  {
   "cell_type": "code",
   "execution_count": 69,
   "metadata": {
    "colab": {
     "base_uri": "https://localhost:8080/"
    },
    "executionInfo": {
     "elapsed": 27,
     "status": "ok",
     "timestamp": 1735106424120,
     "user": {
      "displayName": "K YATHURAJ",
      "userId": "06817869074894730479"
     },
     "user_tz": -330
    },
    "id": "TcxoJHZ7y8_e",
    "outputId": "202a2bd7-babb-4ba5-d9b9-7cf0e0008648"
   },
   "outputs": [
    {
     "name": "stdout",
     "output_type": "stream",
     "text": [
      "Found 1212 images belonging to 9 classes.\n",
      "Found 457 images belonging to 9 classes.\n",
      "Found 458 images belonging to 9 classes.\n"
     ]
    }
   ],
   "source": [
    "train_batches = tf.keras.preprocessing.image.ImageDataGenerator().flow_from_directory(train_path, target_size=(128,128), classes=train_classes, batch_size=train_batch_size)\n",
    "valid_batches = tf.keras.preprocessing.image.ImageDataGenerator().flow_from_directory(valid_path, target_size=(128,128), classes=train_classes, batch_size=valid_batch_size)\n",
    "test_batches = tf.keras.preprocessing.image.ImageDataGenerator().flow_from_directory(test_path, target_size=(128,128), classes=train_classes, batch_size=test_batch_size)"
   ]
  },
  {
   "cell_type": "markdown",
   "metadata": {
    "id": "h5rufm0icjNA"
   },
   "source": [
    "### Base model (Efficientnet)"
   ]
  },
  {
   "cell_type": "markdown",
   "metadata": {
    "id": "bohTRaH9crSj"
   },
   "source": [
    "#### Transfer Learning"
   ]
  },
  {
   "cell_type": "code",
   "execution_count": 70,
   "metadata": {
    "executionInfo": {
     "elapsed": 1736,
     "status": "ok",
     "timestamp": 1735106425842,
     "user": {
      "displayName": "K YATHURAJ",
      "userId": "06817869074894730479"
     },
     "user_tz": -330
    },
    "id": "4n5SXVWRaiLu"
   },
   "outputs": [],
   "source": [
    "base_model = tf.keras.applications.VGG16(include_top=False,\n",
    "    weights='imagenet',\n",
    "    pooling='avg')"
   ]
  },
  {
   "cell_type": "code",
   "execution_count": 71,
   "metadata": {
    "executionInfo": {
     "elapsed": 20,
     "status": "ok",
     "timestamp": 1735106425842,
     "user": {
      "displayName": "K YATHURAJ",
      "userId": "06817869074894730479"
     },
     "user_tz": -330
    },
    "id": "D8TQH8Y_TES6"
   },
   "outputs": [],
   "source": [
    "x = base_model.output\n",
    "x = tf.keras.layers.Dense(512, activation='relu')(x)  # Add a dense layer with 512 units\n",
    "x = tf.keras.layers.Dropout(0.5)(x)  # Add dropout for regularization\n",
    "x = tf.keras.layers.Dense(256, activation='relu')(x)  # Add another dense layer with 256 units\n",
    "x = tf.keras.layers.Dropout(0.5)(x)  # Add another dropout layer\n",
    "output = tf.keras.layers.Dense(len(train_classes), activation='softmax')(x)  # Final output layer\n",
    "new_model = tf.keras.Model(base_model.input, output)"
   ]
  },
  {
   "cell_type": "markdown",
   "metadata": {
    "id": "LkV6Oy1bcwW0"
   },
   "source": [
    "### Set early stopping\n",
    "Avoids model overfitting"
   ]
  },
  {
   "cell_type": "code",
   "execution_count": 72,
   "metadata": {
    "executionInfo": {
     "elapsed": 19,
     "status": "ok",
     "timestamp": 1735106425842,
     "user": {
      "displayName": "K YATHURAJ",
      "userId": "06817869074894730479"
     },
     "user_tz": -330
    },
    "id": "_0UVP757aiLu"
   },
   "outputs": [],
   "source": [
    "es_callback = tf.keras.callbacks.EarlyStopping(\n",
    "    monitor='val_loss',\n",
    "    verbose=1,\n",
    "    patience=2,\n",
    "    mode='max',\n",
    "    restore_best_weights=True\n",
    ")"
   ]
  },
  {
   "cell_type": "code",
   "execution_count": 73,
   "metadata": {
    "executionInfo": {
     "elapsed": 18,
     "status": "ok",
     "timestamp": 1735106425842,
     "user": {
      "displayName": "K YATHURAJ",
      "userId": "06817869074894730479"
     },
     "user_tz": -330
    },
    "id": "4RDiqgFjfyux"
   },
   "outputs": [],
   "source": [
    "lr_schedule = tf.keras.optimizers.schedules.ExponentialDecay(\n",
    "    initial_learning_rate=1e-4,\n",
    "    decay_steps=1000,\n",
    "    decay_rate=0.9)"
   ]
  },
  {
   "cell_type": "markdown",
   "metadata": {
    "id": "eJnwba-sc88U"
   },
   "source": [
    "### Generate new model"
   ]
  },
  {
   "cell_type": "code",
   "execution_count": 74,
   "metadata": {
    "executionInfo": {
     "elapsed": 16,
     "status": "ok",
     "timestamp": 1735106425843,
     "user": {
      "displayName": "K YATHURAJ",
      "userId": "06817869074894730479"
     },
     "user_tz": -330
    },
    "id": "Uye3-lUhaiLv"
   },
   "outputs": [],
   "source": [
    "new_model.compile(optimizer=tf.keras.optimizers.Adam(learning_rate=lr_schedule), loss=tf.keras.losses.CategoricalCrossentropy(from_logits=False,\n",
    "    label_smoothing=0,\n",
    "   reduction=\"none\",\n",
    "    name=\"categorical_crossentropy\"), metrics=['accuracy'])"
   ]
  },
  {
   "cell_type": "markdown",
   "metadata": {
    "id": "H_b5nENsc_JR"
   },
   "source": [
    "### Training"
   ]
  },
  {
   "cell_type": "code",
   "execution_count": 75,
   "metadata": {
    "colab": {
     "base_uri": "https://localhost:8080/"
    },
    "id": "Qg39SNppcopZ",
    "outputId": "8ff00660-df0d-4c62-e890-40df0235a06e"
   },
   "outputs": [
    {
     "name": "stdout",
     "output_type": "stream",
     "text": [
      "Epoch 1/20\n",
      "75/75 [==============================] - 674s 9s/step - loss: 2.3642 - accuracy: 0.1622 - val_loss: 2.1978 - val_accuracy: 0.1094\n",
      "Epoch 2/20\n",
      "75/75 [==============================] - 742s 10s/step - loss: 2.1141 - accuracy: 0.1396 - val_loss: 2.1788 - val_accuracy: 0.1562\n",
      "Epoch 3/20\n",
      "75/75 [==============================] - ETA: 0s - loss: 1.9629 - accuracy: 0.1973Restoring model weights from the end of the best epoch: 1.\n",
      "75/75 [==============================] - 674s 9s/step - loss: 1.9629 - accuracy: 0.1973 - val_loss: 2.1567 - val_accuracy: 0.2009\n",
      "Epoch 3: early stopping\n"
     ]
    }
   ],
   "source": [
    "history = new_model.fit(train_batches, validation_data=valid_batches, validation_steps=valid_steps, steps_per_epoch=train_steps, epochs=epochs,callbacks=[es_callback])"
   ]
  },
  {
   "cell_type": "markdown",
   "metadata": {
    "id": "M75KUjhMdC4T"
   },
   "source": [
    "### Evaluate training process"
   ]
  },
  {
   "cell_type": "code",
   "execution_count": 76,
   "metadata": {
    "id": "KJbNUdKtaiLw"
   },
   "outputs": [
    {
     "name": "stdout",
     "output_type": "stream",
     "text": [
      "75/75 [==============================] - 182s 2s/step - loss: 2.1273 - accuracy: 0.1650\n"
     ]
    },
    {
     "data": {
      "text/plain": [
       "[2.1272804737091064, 0.16500000655651093]"
      ]
     },
     "execution_count": 76,
     "metadata": {},
     "output_type": "execute_result"
    }
   ],
   "source": [
    "results = new_model.evaluate(train_batches,  steps=train_steps)\n",
    "results"
   ]
  },
  {
   "cell_type": "markdown",
   "metadata": {
    "id": "gPiOmt3BdWJ7"
   },
   "source": [
    "#### Loss function"
   ]
  },
  {
   "cell_type": "code",
   "execution_count": 77,
   "metadata": {
    "colab": {
     "background_save": true
    },
    "id": "iejCCZcNaiLw"
   },
   "outputs": [
    {
     "data": {
      "image/png": "[encoded data removed]",
      "text/plain": [
       "<Figure size 640x480 with 1 Axes>"
      ]
     },
     "metadata": {},
     "output_type": "display_data"
    }
   ],
   "source": [
    "plt.semilogy(history.epoch,  history.history['loss'], label='Train')\n",
    "plt.semilogy(history.epoch,  history.history['val_loss'], label='Validation')\n",
    "plt.xlabel('Epoch')\n",
    "plt.ylabel('Loss')\n",
    "plt.legend()\n",
    "plt.show()"
   ]
  },
  {
   "cell_type": "markdown",
   "metadata": {
    "id": "fvIg0vLtdY_0"
   },
   "source": [
    "#### Accuracy function"
   ]
  },
  {
   "cell_type": "code",
   "execution_count": 78,
   "metadata": {
    "colab": {
     "background_save": true
    },
    "id": "4daZQkmXaiLx"
   },
   "outputs": [
    {
     "data": {
      "image/png": "[encoded data removed]",
      "text/plain": [
       "<Figure size 640x480 with 1 Axes>"
      ]
     },
     "metadata": {},
     "output_type": "display_data"
    }
   ],
   "source": [
    "plt.semilogy(history.epoch, history.history['accuracy'], label='Train')\n",
    "plt.semilogy(history.epoch, history.history['val_accuracy'], label='Validation')\n",
    "plt.xlabel('Epoch')\n",
    "plt.ylabel('Accuracy')\n",
    "plt.legend()\n",
    "plt.show()"
   ]
  },
  {
   "cell_type": "code",
   "execution_count": 79,
   "metadata": {
    "colab": {
     "background_save": true
    },
    "id": "6kFJN-rWaiLy"
   },
   "outputs": [
    {
     "name": "stdout",
     "output_type": "stream",
     "text": [
      "76/76 [==============================] - 220s 3s/step\n"
     ]
    }
   ],
   "source": [
    "Y_train_pred =new_model.predict(train_batches,train_steps)"
   ]
  },
  {
   "cell_type": "code",
   "execution_count": 80,
   "metadata": {
    "colab": {
     "background_save": true
    },
    "id": "ZMWTh6OpaiLy"
   },
   "outputs": [],
   "source": [
    "y_train_pred = np.argmax(Y_train_pred, axis=1)"
   ]
  },
  {
   "cell_type": "code",
   "execution_count": 81,
   "metadata": {
    "colab": {
     "background_save": true
    },
    "id": "AemeMFjMfyu4"
   },
   "outputs": [
    {
     "name": "stdout",
     "output_type": "stream",
     "text": [
      "1212\n",
      "1212\n"
     ]
    }
   ],
   "source": [
    "print(len(train_batches.classes))\n",
    "print(len(y_train_pred))"
   ]
  },
  {
   "cell_type": "markdown",
   "metadata": {
    "id": "WJBMtXZqdcbY"
   },
   "source": [
    "#### Confusion matrix"
   ]
  },
  {
   "cell_type": "code",
   "execution_count": 82,
   "metadata": {
    "colab": {
     "background_save": true
    },
    "id": "XQ5yse_wfyvF"
   },
   "outputs": [
    {
     "name": "stdout",
     "output_type": "stream",
     "text": [
      "76/76 [==============================] - 295s 4s/step\n",
      "[[200   0   0   0   0   0   0   0   0]\n",
      " [202   0   0   0   0   0   0   0   0]\n",
      " [102   0   0   0   0   0   0   0   0]\n",
      " [101   1   0   0   0   0   0   0   0]\n",
      " [ 50   1   0   0   0   0   0   0   0]\n",
      " [199   2   0   0   0   0   0   0   0]\n",
      " [153   0   0   0   0   0   0   0   0]\n",
      " [101   0   0   0   0   0   0   0   0]\n",
      " [100   0   0   0   0   0   0   0   0]]\n"
     ]
    }
   ],
   "source": [
    "from sklearn.metrics import confusion_matrix\n",
    "import numpy as np\n",
    "\n",
    "# Assuming train_batches is your training data generator\n",
    "# Make predictions on the training set\n",
    "y_train_pred = new_model.predict(train_batches, steps=train_batches.samples // train_batches.batch_size + 1)\n",
    "y_train_pred_classes = np.argmax(y_train_pred, axis=1)\n",
    "\n",
    "# Ensure the lengths match\n",
    "assert len(train_batches.classes) == len(y_train_pred_classes), \"Mismatch in number of samples\"\n",
    "\n",
    "# Compute the confusion matrix\n",
    "cm_train = confusion_matrix(train_batches.classes, y_train_pred_classes)\n",
    "\n",
    "print(cm_train)\n",
    "\n",
    "# cm_train = confusion_matrix(train_batches.classes, y_train_pred)"
   ]
  },
  {
   "cell_type": "code",
   "execution_count": 83,
   "metadata": {
    "colab": {
     "background_save": true
    },
    "id": "IwH5VuYMaiLz"
   },
   "outputs": [
    {
     "data": {
      "text/plain": [
       "Text(0.5, 135.7222222222222, 'Predicted label')"
      ]
     },
     "execution_count": 83,
     "metadata": {},
     "output_type": "execute_result"
    },
    {
     "data": {
      "image/png": "[encoded data removed]",
      "text/plain": [
       "<Figure size 1500x1500 with 2 Axes>"
      ]
     },
     "metadata": {},
     "output_type": "display_data"
    }
   ],
   "source": [
    "plt.figure(figsize=(15,15))\n",
    "sns.heatmap(cm_train, annot=True, fmt=\"d\")\n",
    "plt.title('Confusion matrix (Train)')\n",
    "plt.ylabel('Actual label')\n",
    "plt.xlabel('Predicted label')"
   ]
  },
  {
   "cell_type": "markdown",
   "metadata": {
    "id": "1DA4hsw5dg5j"
   },
   "source": [
    "### Model testing"
   ]
  },
  {
   "cell_type": "code",
   "execution_count": 84,
   "metadata": {
    "id": "9l0uYBMrBYEX"
   },
   "outputs": [
    {
     "name": "stdout",
     "output_type": "stream",
     "text": [
      " 7/29 [======>.......................] - ETA: 1:30"
     ]
    },
    {
     "name": "stdout",
     "output_type": "stream",
     "text": [
      "29/29 [==============================] - 128s 4s/step\n"
     ]
    }
   ],
   "source": [
    "Y_pred =new_model.predict(test_batches,test_steps)"
   ]
  },
  {
   "cell_type": "code",
   "execution_count": 85,
   "metadata": {
    "id": "NA-nFUxiaiLx"
   },
   "outputs": [],
   "source": [
    "y_pred = np.argmax(Y_pred, axis=1)"
   ]
  },
  {
   "cell_type": "code",
   "execution_count": 86,
   "metadata": {
    "id": "kZxYPbqdBvvm"
   },
   "outputs": [
    {
     "name": "stdout",
     "output_type": "stream",
     "text": [
      " 5/29 [====>.........................] - ETA: 1:50"
     ]
    },
    {
     "name": "stdout",
     "output_type": "stream",
     "text": [
      "29/29 [==============================] - 117s 4s/step\n",
      "[[49  2  0  0  0  0  0  0  0]\n",
      " [51  0  0  0  0  0  0  0  0]\n",
      " [50  1  0  0  0  0  0  0  0]\n",
      " [51  0  0  0  0  0  0  0  0]\n",
      " [51  0  0  0  0  0  0  0  0]\n",
      " [51  0  0  0  0  0  0  0  0]\n",
      " [51  0  0  0  0  0  0  0  0]\n",
      " [50  0  0  0  0  0  0  0  0]\n",
      " [51  0  0  0  0  0  0  0  0]]\n"
     ]
    }
   ],
   "source": [
    "# cm = confusion_matrix(test_batches.classes, y_pred)\n",
    "\n",
    "from sklearn.metrics import confusion_matrix\n",
    "import numpy as np\n",
    "\n",
    "# Assuming test_batches is your test data generator\n",
    "# Make predictions on the test set\n",
    "y_pred = new_model.predict(test_batches, steps=test_batches.samples // test_batches.batch_size + 1)\n",
    "y_pred_classes = np.argmax(y_pred, axis=1)\n",
    "\n",
    "# Ensure the lengths match\n",
    "assert len(test_batches.classes) == len(y_pred_classes), \"Mismatch in number of samples\"\n",
    "\n",
    "# Compute the confusion matrix\n",
    "cm = confusion_matrix(test_batches.classes, y_pred_classes)\n",
    "\n",
    "print(cm)"
   ]
  },
  {
   "cell_type": "code",
   "execution_count": 87,
   "metadata": {
    "colab": {
     "background_save": true
    },
    "id": "wQjFACoBB2t5"
   },
   "outputs": [
    {
     "data": {
      "text/plain": [
       "Text(0.5, 135.7222222222222, 'Predicted label')"
      ]
     },
     "execution_count": 87,
     "metadata": {},
     "output_type": "execute_result"
    },
    {
     "data": {
      "image/png": "[encoded data removed]",
      "text/plain": [
       "<Figure size 1500x1500 with 2 Axes>"
      ]
     },
     "metadata": {},
     "output_type": "display_data"
    }
   ],
   "source": [
    "plt.figure(figsize=(15,15))\n",
    "sns.heatmap(cm, annot=True, fmt=\"d\")\n",
    "plt.title('Confusion matrix')\n",
    "plt.ylabel('Actual label')\n",
    "plt.xlabel('Predicted label')"
   ]
  },
  {
   "cell_type": "markdown",
   "metadata": {},
   "source": [
    "Evaluate model on test set"
   ]
  },
  {
   "cell_type": "code",
   "execution_count": 88,
   "metadata": {},
   "outputs": [
    {
     "name": "stdout",
     "output_type": "stream",
     "text": [
      "17/28 [=================>............] - ETA: 40s - loss: 2.1769 - accuracy: 0.1103"
     ]
    },
    {
     "name": "stdout",
     "output_type": "stream",
     "text": [
      "28/28 [==============================] - 115s 4s/step - loss: 2.1776 - accuracy: 0.1138\n",
      "Test Loss: 2.1775944232940674, Test Accuracy: 0.1138392835855484\n"
     ]
    }
   ],
   "source": [
    "test_loss, test_accuracy = new_model.evaluate(test_batches, steps=test_steps)\n",
    "print(f'Test Loss: {test_loss}, Test Accuracy: {test_accuracy}')"
   ]
  },
  {
   "cell_type": "markdown",
   "metadata": {},
   "source": [
    "Evaluation Matrix"
   ]
  },
  {
   "cell_type": "code",
   "execution_count": 89,
   "metadata": {},
   "outputs": [
    {
     "name": "stdout",
     "output_type": "stream",
     "text": [
      " 7/29 [======>.......................] - ETA: 1:22"
     ]
    },
    {
     "name": "stdout",
     "output_type": "stream",
     "text": [
      "29/29 [==============================] - 110s 4s/step\n",
      "              precision    recall  f1-score   support\n",
      "\n",
      "   Duryodhan       0.11      1.00      0.20        51\n",
      "       Ganga       0.00      0.00      0.00        51\n",
      "        Lali       0.00      0.00      0.00        51\n",
      "  Parashuram       0.00      0.00      0.00        51\n",
      "        Raju       0.00      0.00      0.00        51\n",
      "Sivilbahadur       0.00      0.00      0.00        51\n",
      "        Sonu       0.00      0.00      0.00        51\n",
      "   Tirathram       0.00      0.00      0.00        50\n",
      "    Yoglaxmi       0.00      0.00      0.00        51\n",
      "\n",
      "    accuracy                           0.11       458\n",
      "   macro avg       0.01      0.11      0.02       458\n",
      "weighted avg       0.01      0.11      0.02       458\n",
      "\n"
     ]
    }
   ],
   "source": [
    "from sklearn.metrics import classification_report\n",
    "\n",
    "# Make predictions on the test set\n",
    "y_pred = new_model.predict(test_batches, steps=test_batches.samples // test_batches.batch_size + 1)\n",
    "y_pred_classes = np.argmax(y_pred, axis=1)\n",
    "\n",
    "# Ensure the lengths match\n",
    "assert len(test_batches.classes) == len(y_pred_classes), \"Mismatch in number of samples\"\n",
    "\n",
    "# Generate classification report\n",
    "report = classification_report(test_batches.classes, y_pred_classes, target_names=test_batches.class_indices.keys())\n",
    "print(report)"
   ]
  },
  {
   "cell_type": "markdown",
   "metadata": {
    "id": "AY1sgUoIdoHm"
   },
   "source": [
    "### Save model"
   ]
  },
  {
   "cell_type": "code",
   "execution_count": 90,
   "metadata": {
    "colab": {
     "background_save": true
    },
    "id": "FUwqwmJxaiL0"
   },
   "outputs": [
    {
     "name": "stderr",
     "output_type": "stream",
     "text": [
      "WARNING:absl:Found untraced functions such as _jit_compiled_convolution_op, _jit_compiled_convolution_op, _jit_compiled_convolution_op, _jit_compiled_convolution_op, _jit_compiled_convolution_op while saving (showing 5 of 14). These functions will not be directly callable after loading.\n"
     ]
    },
    {
     "name": "stdout",
     "output_type": "stream",
     "text": [
      "INFO:tensorflow:Assets written to: vgg16_new\\assets\n"
     ]
    },
    {
     "name": "stderr",
     "output_type": "stream",
     "text": [
      "INFO:tensorflow:Assets written to: vgg16_new\\assets\n"
     ]
    }
   ],
   "source": [
    "new_model.save('vgg16_new')"
   ]
  }
 ],
 "metadata": {
  "accelerator": "GPU",
  "colab": {
   "name": "",
   "toc_visible": true,
   "version": ""
  },
  "kernelspec": {
   "display_name": "Python 3",
   "language": "python",
   "name": "python3"
  },
  "language_info": {
   "codemirror_mode": {
    "name": "ipython",
    "version": 3
   },
   "file_extension": ".py",
   "mimetype": "text/x-python",
   "name": "python",
   "nbconvert_exporter": "python",
   "pygments_lexer": "ipython3",
   "version": "3.7.8"
  }
 },
 "nbformat": 4,
 "nbformat_minor": 0
}
